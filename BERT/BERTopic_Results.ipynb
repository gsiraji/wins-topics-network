{
 "cells": [
  {
   "cell_type": "markdown",
   "id": "d50ae447",
   "metadata": {},
   "source": [
    "# Load BERTopic Model"
   ]
  },
  {
   "cell_type": "code",
   "execution_count": 1,
   "id": "11a71c5c",
   "metadata": {},
   "outputs": [
    {
     "name": "stderr",
     "output_type": "stream",
     "text": [
      "2023-06-12 11:11:55.121905: I tensorflow/core/platform/cpu_feature_guard.cc:182] This TensorFlow binary is optimized to use available CPU instructions in performance-critical operations.\n",
      "To enable the following instructions: AVX2 FMA, in other operations, rebuild TensorFlow with the appropriate compiler flags.\n"
     ]
    }
   ],
   "source": [
    "import tensorflow"
   ]
  },
  {
   "cell_type": "code",
   "execution_count": 2,
   "id": "9586724f",
   "metadata": {
    "scrolled": false
   },
   "outputs": [
    {
     "name": "stderr",
     "output_type": "stream",
     "text": [
      "/Users/moyi/opt/anaconda3/envs/wins-project-bert/lib/python3.8/site-packages/umap/distances.py:1063: NumbaDeprecationWarning: \u001b[1mThe 'nopython' keyword argument was not supplied to the 'numba.jit' decorator. The implicit default value for this argument is currently False, but it will be changed to True in Numba 0.59.0. See https://numba.readthedocs.io/en/stable/reference/deprecation.html#deprecation-of-object-mode-fall-back-behaviour-when-using-jit for details.\u001b[0m\n",
      "  @numba.jit()\n",
      "/Users/moyi/opt/anaconda3/envs/wins-project-bert/lib/python3.8/site-packages/umap/distances.py:1071: NumbaDeprecationWarning: \u001b[1mThe 'nopython' keyword argument was not supplied to the 'numba.jit' decorator. The implicit default value for this argument is currently False, but it will be changed to True in Numba 0.59.0. See https://numba.readthedocs.io/en/stable/reference/deprecation.html#deprecation-of-object-mode-fall-back-behaviour-when-using-jit for details.\u001b[0m\n",
      "  @numba.jit()\n",
      "/Users/moyi/opt/anaconda3/envs/wins-project-bert/lib/python3.8/site-packages/umap/distances.py:1086: NumbaDeprecationWarning: \u001b[1mThe 'nopython' keyword argument was not supplied to the 'numba.jit' decorator. The implicit default value for this argument is currently False, but it will be changed to True in Numba 0.59.0. See https://numba.readthedocs.io/en/stable/reference/deprecation.html#deprecation-of-object-mode-fall-back-behaviour-when-using-jit for details.\u001b[0m\n",
      "  @numba.jit()\n",
      "/Users/moyi/opt/anaconda3/envs/wins-project-bert/lib/python3.8/site-packages/umap/umap_.py:660: NumbaDeprecationWarning: \u001b[1mThe 'nopython' keyword argument was not supplied to the 'numba.jit' decorator. The implicit default value for this argument is currently False, but it will be changed to True in Numba 0.59.0. See https://numba.readthedocs.io/en/stable/reference/deprecation.html#deprecation-of-object-mode-fall-back-behaviour-when-using-jit for details.\u001b[0m\n",
      "  @numba.jit()\n"
     ]
    }
   ],
   "source": [
    "from bertopic import BERTopic"
   ]
  },
  {
   "cell_type": "code",
   "execution_count": null,
   "id": "781b2a47",
   "metadata": {},
   "outputs": [],
   "source": [
    "## Load model on the full dataset(without preprocessing)\n",
    "# cc_abs_model = BERTopic.load(\"cc_abstract_bertopic_model\")\n",
    "# cc_ttl_model = BERTopic.load(\"cc_title_bertopic_model\")\n",
    "# nlp_abs_model = BERTopic.load(\"nlp_abstract_bertopic_model\")\n",
    "# nlp_ttl_model = BERTopic.load(\"nlp_title_bertopic_model\")"
   ]
  },
  {
   "cell_type": "markdown",
   "id": "f67888d1",
   "metadata": {},
   "source": [
    "Load model on the full dataset(with preprocessing)"
   ]
  },
  {
   "cell_type": "code",
   "execution_count": 3,
   "id": "fdcab120",
   "metadata": {},
   "outputs": [],
   "source": [
    "cc_abs_pp_model = BERTopic.load(\"cc_abstract_bertopic_model_with_preprocessing\")\n",
    "cc_ttl_pp_model = BERTopic.load(\"cc_title_bertopic_model_with_preprocessing\")\n",
    "nlp_abs_pp_model = BERTopic.load(\"nlp_abstract_bertopic_model_with_preprocessing\")\n",
    "nlp_ttl_pp_model = BERTopic.load(\"nlp_title_bertopic_model_with_preprocessing\")"
   ]
  },
  {
   "cell_type": "markdown",
   "id": "db33d552",
   "metadata": {},
   "source": [
    "Load model on splitted time periods(with preprocessing)"
   ]
  },
  {
   "cell_type": "code",
   "execution_count": 4,
   "id": "dae920bb",
   "metadata": {},
   "outputs": [],
   "source": [
    "cc1_model = BERTopic.load(\"cc_model_time1\")\n",
    "cc2_model = BERTopic.load(\"cc_model_time2\")\n",
    "cc3_model = BERTopic.load(\"cc_model_time3\")"
   ]
  },
  {
   "cell_type": "code",
   "execution_count": 5,
   "id": "82f1cdcd",
   "metadata": {},
   "outputs": [],
   "source": [
    "nlp1_model = BERTopic.load(\"nlp_model_time1\")\n",
    "nlp2_model = BERTopic.load(\"nlp_model_time2\")\n",
    "nlp3_model = BERTopic.load(\"nlp_model_time3\")"
   ]
  },
  {
   "cell_type": "markdown",
   "id": "859d7e78",
   "metadata": {},
   "source": [
    "# Load Docs"
   ]
  },
  {
   "cell_type": "code",
   "execution_count": 6,
   "id": "7e9e6272",
   "metadata": {},
   "outputs": [],
   "source": [
    "import pandas as pd"
   ]
  },
  {
   "cell_type": "markdown",
   "id": "257578f1",
   "metadata": {},
   "source": [
    "Load full datasets"
   ]
  },
  {
   "cell_type": "code",
   "execution_count": 7,
   "id": "4b66a1d9",
   "metadata": {},
   "outputs": [],
   "source": [
    "cc_data_full = pd.read_parquet('./climate_change_full.parquet', engine='pyarrow')\n",
    "nlp_data_full = pd.read_parquet('./nlp_full.parquet', engine='pyarrow')"
   ]
  },
  {
   "cell_type": "code",
   "execution_count": 8,
   "id": "1285bfe5",
   "metadata": {},
   "outputs": [],
   "source": [
    "cc_full_abs = cc_data_full.abstract_cleaned.values.tolist()\n",
    "nlp_full_abs = nlp_data_full.abstract_cleaned.values.tolist()"
   ]
  },
  {
   "cell_type": "code",
   "execution_count": 9,
   "id": "3e46f533",
   "metadata": {},
   "outputs": [],
   "source": [
    "cc_full_timestamp = cc_data_full.update_date.values.tolist()\n",
    "nlp_full_timestamp = nlp_data_full.update_date.values.tolist()"
   ]
  },
  {
   "cell_type": "code",
   "execution_count": 10,
   "id": "028f7a82",
   "metadata": {},
   "outputs": [],
   "source": [
    "cc_full_cats = [cats.split(' ') for cats in cc_data_full.categories.values.tolist()]\n",
    "nlp_full_cats = [cats.split(' ') for cats in nlp_data_full.categories.values.tolist()]"
   ]
  },
  {
   "cell_type": "markdown",
   "id": "dc86d74f",
   "metadata": {},
   "source": [
    "Load splitted datasets"
   ]
  },
  {
   "cell_type": "code",
   "execution_count": 11,
   "id": "5d8819ed",
   "metadata": {},
   "outputs": [],
   "source": [
    "cc1_data = pd.read_parquet('./climate_change_t1.parquet', engine='pyarrow')\n",
    "cc2_data = pd.read_parquet('./climate_change_t2.parquet', engine='pyarrow')\n",
    "cc3_data = pd.read_parquet('./climate_change_t3.parquet', engine='pyarrow')"
   ]
  },
  {
   "cell_type": "code",
   "execution_count": 12,
   "id": "af105a96",
   "metadata": {},
   "outputs": [],
   "source": [
    "nlp1_data = pd.read_parquet('./nlp_t1.parquet', engine='pyarrow')\n",
    "nlp2_data = pd.read_parquet('./nlp_t2.parquet', engine='pyarrow')\n",
    "nlp3_data = pd.read_parquet('./nlp_t3.parquet', engine='pyarrow')"
   ]
  },
  {
   "cell_type": "code",
   "execution_count": 13,
   "id": "8b7acf6a",
   "metadata": {},
   "outputs": [],
   "source": [
    "cc1_abs = cc1_data.abstract_cleaned.values.tolist()\n",
    "cc2_abs = cc2_data.abstract_cleaned.values.tolist()\n",
    "cc3_abs = cc3_data.abstract_cleaned.values.tolist()"
   ]
  },
  {
   "cell_type": "code",
   "execution_count": 14,
   "id": "d1b69328",
   "metadata": {},
   "outputs": [],
   "source": [
    "nlp1_abs = nlp1_data.abstract_cleaned.values.tolist()\n",
    "nlp2_abs = nlp2_data.abstract_cleaned.values.tolist()\n",
    "nlp3_abs = nlp3_data.abstract_cleaned.values.tolist()"
   ]
  },
  {
   "cell_type": "code",
   "execution_count": 15,
   "id": "de7d9c06",
   "metadata": {},
   "outputs": [],
   "source": [
    "cc1_timestamp = cc1_data.update_date.values.tolist()\n",
    "cc2_timestamp = cc2_data.update_date.values.tolist()\n",
    "cc3_timestamp = cc3_data.update_date.values.tolist()"
   ]
  },
  {
   "cell_type": "code",
   "execution_count": 16,
   "id": "698aa3d7",
   "metadata": {},
   "outputs": [],
   "source": [
    "nlp1_timestamp = nlp1_data.update_date.values.tolist()\n",
    "nlp2_timestamp = nlp2_data.update_date.values.tolist()\n",
    "nlp3_timestamp = nlp3_data.update_date.values.tolist()"
   ]
  },
  {
   "cell_type": "code",
   "execution_count": 17,
   "id": "73e8c17f",
   "metadata": {},
   "outputs": [],
   "source": [
    "cc1_cats = [cats.split(' ') for cats in cc1_data.categories.values.tolist()]\n",
    "cc2_cats = [cats.split(' ') for cats in cc2_data.categories.values.tolist()]\n",
    "cc3_cats = [cats.split(' ') for cats in cc3_data.categories.values.tolist()]"
   ]
  },
  {
   "cell_type": "code",
   "execution_count": 18,
   "id": "07d3f0ec",
   "metadata": {},
   "outputs": [],
   "source": [
    "nlp1_cats = [cats.split(' ') for cats in nlp1_data.categories.values.tolist()]\n",
    "nlp2_cats = [cats.split(' ') for cats in nlp2_data.categories.values.tolist()]\n",
    "nlp3_cats = [cats.split(' ') for cats in nlp3_data.categories.values.tolist()]"
   ]
  },
  {
   "cell_type": "markdown",
   "id": "f9e86c7b",
   "metadata": {},
   "source": [
    "# Results"
   ]
  },
  {
   "cell_type": "code",
   "execution_count": 19,
   "id": "6a576fe1",
   "metadata": {},
   "outputs": [],
   "source": [
    "import plotly.io as pio\n",
    "pio.renderers.default = 'iframe'"
   ]
  },
  {
   "cell_type": "code",
   "execution_count": 20,
   "id": "70f61b09",
   "metadata": {
    "scrolled": true
   },
   "outputs": [],
   "source": [
    "# cc1_model.get_topics()"
   ]
  },
  {
   "cell_type": "markdown",
   "id": "642611db",
   "metadata": {},
   "source": [
    "## Barchart"
   ]
  },
  {
   "cell_type": "code",
   "execution_count": 21,
   "id": "db91d5d4",
   "metadata": {},
   "outputs": [
    {
     "data": {
      "text/html": [
       "<iframe\n",
       "    scrolling=\"no\"\n",
       "    width=\"1020px\"\n",
       "    height=\"520\"\n",
       "    src=\"iframe_figures/figure_21.html\"\n",
       "    frameborder=\"0\"\n",
       "    allowfullscreen\n",
       "></iframe>\n"
      ]
     },
     "metadata": {},
     "output_type": "display_data"
    }
   ],
   "source": [
    "cc_abs_pp_model.visualize_barchart(title = 'Topic word scores for climate change papers')"
   ]
  },
  {
   "cell_type": "code",
   "execution_count": 22,
   "id": "c85ab614",
   "metadata": {},
   "outputs": [
    {
     "data": {
      "text/html": [
       "<iframe\n",
       "    scrolling=\"no\"\n",
       "    width=\"1020px\"\n",
       "    height=\"345.0\"\n",
       "    src=\"iframe_figures/figure_22.html\"\n",
       "    frameborder=\"0\"\n",
       "    allowfullscreen\n",
       "></iframe>\n"
      ]
     },
     "metadata": {},
     "output_type": "display_data"
    }
   ],
   "source": [
    "cc1_model.visualize_barchart(title = 'Topic word scores for climate change papers time period 1')"
   ]
  },
  {
   "cell_type": "code",
   "execution_count": 23,
   "id": "bfb3714e",
   "metadata": {},
   "outputs": [
    {
     "data": {
      "text/html": [
       "<iframe\n",
       "    scrolling=\"no\"\n",
       "    width=\"1020px\"\n",
       "    height=\"345.0\"\n",
       "    src=\"iframe_figures/figure_23.html\"\n",
       "    frameborder=\"0\"\n",
       "    allowfullscreen\n",
       "></iframe>\n"
      ]
     },
     "metadata": {},
     "output_type": "display_data"
    }
   ],
   "source": [
    "cc2_model.visualize_barchart(title = 'Topic word scores for climate change papers time period 2')"
   ]
  },
  {
   "cell_type": "code",
   "execution_count": 24,
   "id": "1182f24e",
   "metadata": {
    "scrolled": true
   },
   "outputs": [
    {
     "data": {
      "text/html": [
       "<iframe\n",
       "    scrolling=\"no\"\n",
       "    width=\"1020px\"\n",
       "    height=\"345.0\"\n",
       "    src=\"iframe_figures/figure_24.html\"\n",
       "    frameborder=\"0\"\n",
       "    allowfullscreen\n",
       "></iframe>\n"
      ]
     },
     "metadata": {},
     "output_type": "display_data"
    }
   ],
   "source": [
    "cc3_model.visualize_barchart(title = 'Topic word scores for climate change papers time period 3')"
   ]
  },
  {
   "cell_type": "code",
   "execution_count": 25,
   "id": "92c296de",
   "metadata": {},
   "outputs": [
    {
     "data": {
      "text/html": [
       "<iframe\n",
       "    scrolling=\"no\"\n",
       "    width=\"1020px\"\n",
       "    height=\"520\"\n",
       "    src=\"iframe_figures/figure_25.html\"\n",
       "    frameborder=\"0\"\n",
       "    allowfullscreen\n",
       "></iframe>\n"
      ]
     },
     "metadata": {},
     "output_type": "display_data"
    }
   ],
   "source": [
    "nlp_abs_pp_model.visualize_barchart(title = 'Topic word scores for NLP papers')"
   ]
  },
  {
   "cell_type": "code",
   "execution_count": 26,
   "id": "1d319a72",
   "metadata": {},
   "outputs": [
    {
     "data": {
      "text/html": [
       "<iframe\n",
       "    scrolling=\"no\"\n",
       "    width=\"1020px\"\n",
       "    height=\"345.0\"\n",
       "    src=\"iframe_figures/figure_26.html\"\n",
       "    frameborder=\"0\"\n",
       "    allowfullscreen\n",
       "></iframe>\n"
      ]
     },
     "metadata": {},
     "output_type": "display_data"
    }
   ],
   "source": [
    "nlp1_model.visualize_barchart(title = 'Topic word scores for NLP papers time period 1')"
   ]
  },
  {
   "cell_type": "code",
   "execution_count": 27,
   "id": "54a745d7",
   "metadata": {},
   "outputs": [
    {
     "data": {
      "text/html": [
       "<iframe\n",
       "    scrolling=\"no\"\n",
       "    width=\"1020px\"\n",
       "    height=\"520\"\n",
       "    src=\"iframe_figures/figure_27.html\"\n",
       "    frameborder=\"0\"\n",
       "    allowfullscreen\n",
       "></iframe>\n"
      ]
     },
     "metadata": {},
     "output_type": "display_data"
    }
   ],
   "source": [
    "nlp2_model.visualize_barchart(title = 'Topic word scores for NLP papers time period 2')"
   ]
  },
  {
   "cell_type": "code",
   "execution_count": 28,
   "id": "c6f5d4c6",
   "metadata": {},
   "outputs": [
    {
     "data": {
      "text/html": [
       "<iframe\n",
       "    scrolling=\"no\"\n",
       "    width=\"1020px\"\n",
       "    height=\"520\"\n",
       "    src=\"iframe_figures/figure_28.html\"\n",
       "    frameborder=\"0\"\n",
       "    allowfullscreen\n",
       "></iframe>\n"
      ]
     },
     "metadata": {},
     "output_type": "display_data"
    }
   ],
   "source": [
    "nlp3_model.visualize_barchart(title = 'Topic word scores for NLP papers time period 3')"
   ]
  },
  {
   "cell_type": "markdown",
   "id": "e90531ff",
   "metadata": {},
   "source": [
    "## Visualize documents and their topics in 2D"
   ]
  },
  {
   "cell_type": "code",
   "execution_count": null,
   "id": "1304683d",
   "metadata": {},
   "outputs": [],
   "source": [
    "# cc_abs_pp_model.visualize_documents(cc_full_abs, width=950)"
   ]
  },
  {
   "cell_type": "code",
   "execution_count": null,
   "id": "ec588e81",
   "metadata": {},
   "outputs": [],
   "source": [
    "# cc_abs_pp_model.visualize_documents(cc_full_abs, topics = [0,1,2,3,4,5], width=950)"
   ]
  },
  {
   "cell_type": "markdown",
   "id": "d82f1c90",
   "metadata": {},
   "source": [
    "### Climate Change over all Time"
   ]
  },
  {
   "cell_type": "code",
   "execution_count": 29,
   "id": "5be09bad",
   "metadata": {},
   "outputs": [],
   "source": [
    "cc_plot1 = cc_abs_pp_model.visualize_documents(cc_full_abs, topics = [0,1,2,3,4,5,6,7], width=950)"
   ]
  },
  {
   "cell_type": "code",
   "execution_count": 30,
   "id": "9f8d5b41",
   "metadata": {},
   "outputs": [
    {
     "data": {
      "text/html": [
       "<iframe\n",
       "    scrolling=\"no\"\n",
       "    width=\"970px\"\n",
       "    height=\"770\"\n",
       "    src=\"iframe_figures/figure_30.html\"\n",
       "    frameborder=\"0\"\n",
       "    allowfullscreen\n",
       "></iframe>\n"
      ]
     },
     "metadata": {},
     "output_type": "display_data"
    }
   ],
   "source": [
    "cc_plot1"
   ]
  },
  {
   "cell_type": "markdown",
   "id": "0febe0d0",
   "metadata": {},
   "source": [
    "Save plot to html"
   ]
  },
  {
   "cell_type": "code",
   "execution_count": 31,
   "id": "d41d3fa3",
   "metadata": {},
   "outputs": [],
   "source": [
    "cc_plot1.write_html(\"./cc_abs_ver1.html\")"
   ]
  },
  {
   "cell_type": "markdown",
   "id": "dac0195b",
   "metadata": {},
   "source": [
    "### Climate Change in Splitted Time Periods"
   ]
  },
  {
   "cell_type": "code",
   "execution_count": 32,
   "id": "fe321f05",
   "metadata": {},
   "outputs": [
    {
     "data": {
      "text/html": [
       "<iframe\n",
       "    scrolling=\"no\"\n",
       "    width=\"970px\"\n",
       "    height=\"770\"\n",
       "    src=\"iframe_figures/figure_32.html\"\n",
       "    frameborder=\"0\"\n",
       "    allowfullscreen\n",
       "></iframe>\n"
      ]
     },
     "metadata": {},
     "output_type": "display_data"
    }
   ],
   "source": [
    "cc1_model.visualize_documents(cc1_abs, width=950)"
   ]
  },
  {
   "cell_type": "code",
   "execution_count": 33,
   "id": "9e65c26d",
   "metadata": {},
   "outputs": [
    {
     "data": {
      "text/html": [
       "<iframe\n",
       "    scrolling=\"no\"\n",
       "    width=\"970px\"\n",
       "    height=\"770\"\n",
       "    src=\"iframe_figures/figure_33.html\"\n",
       "    frameborder=\"0\"\n",
       "    allowfullscreen\n",
       "></iframe>\n"
      ]
     },
     "metadata": {},
     "output_type": "display_data"
    }
   ],
   "source": [
    "cc2_model.visualize_documents(cc2_abs, width=950)"
   ]
  },
  {
   "cell_type": "code",
   "execution_count": 34,
   "id": "57586395",
   "metadata": {},
   "outputs": [
    {
     "data": {
      "text/html": [
       "<iframe\n",
       "    scrolling=\"no\"\n",
       "    width=\"970px\"\n",
       "    height=\"770\"\n",
       "    src=\"iframe_figures/figure_34.html\"\n",
       "    frameborder=\"0\"\n",
       "    allowfullscreen\n",
       "></iframe>\n"
      ]
     },
     "metadata": {},
     "output_type": "display_data"
    }
   ],
   "source": [
    "cc3_model.visualize_documents(cc3_abs, width=950)"
   ]
  },
  {
   "cell_type": "markdown",
   "id": "688c0442",
   "metadata": {},
   "source": [
    "### NLP over all Time"
   ]
  },
  {
   "cell_type": "code",
   "execution_count": null,
   "id": "d7e5ad07",
   "metadata": {},
   "outputs": [],
   "source": [
    "# nlp_abs_pp_model.visualize_documents(nlp_full_abs, width=950)"
   ]
  },
  {
   "cell_type": "code",
   "execution_count": 35,
   "id": "f165b2ed",
   "metadata": {},
   "outputs": [],
   "source": [
    "nlp_plot1 = nlp_abs_pp_model.visualize_documents(nlp_full_abs, topics = [0,1,2,3,4,5,6,7], width=950)"
   ]
  },
  {
   "cell_type": "code",
   "execution_count": 36,
   "id": "08e2b90a",
   "metadata": {},
   "outputs": [
    {
     "data": {
      "text/html": [
       "<iframe\n",
       "    scrolling=\"no\"\n",
       "    width=\"970px\"\n",
       "    height=\"770\"\n",
       "    src=\"iframe_figures/figure_36.html\"\n",
       "    frameborder=\"0\"\n",
       "    allowfullscreen\n",
       "></iframe>\n"
      ]
     },
     "metadata": {},
     "output_type": "display_data"
    }
   ],
   "source": [
    "nlp_plot1"
   ]
  },
  {
   "cell_type": "markdown",
   "id": "588b5d49",
   "metadata": {},
   "source": [
    "Save plot to html"
   ]
  },
  {
   "cell_type": "code",
   "execution_count": 37,
   "id": "b07b021b",
   "metadata": {},
   "outputs": [],
   "source": [
    "nlp_plot1.write_html(\"./nlp_abs_ver1.html\")"
   ]
  },
  {
   "cell_type": "markdown",
   "id": "3eea2db6",
   "metadata": {},
   "source": [
    "### NLP in Splitted Time Periods"
   ]
  },
  {
   "cell_type": "code",
   "execution_count": 38,
   "id": "4f6ead2c",
   "metadata": {},
   "outputs": [
    {
     "data": {
      "text/html": [
       "<iframe\n",
       "    scrolling=\"no\"\n",
       "    width=\"970px\"\n",
       "    height=\"770\"\n",
       "    src=\"iframe_figures/figure_38.html\"\n",
       "    frameborder=\"0\"\n",
       "    allowfullscreen\n",
       "></iframe>\n"
      ]
     },
     "metadata": {},
     "output_type": "display_data"
    }
   ],
   "source": [
    "nlp1_model.visualize_documents(nlp1_abs, width=950)"
   ]
  },
  {
   "cell_type": "code",
   "execution_count": 39,
   "id": "ccb24cca",
   "metadata": {},
   "outputs": [
    {
     "data": {
      "text/html": [
       "<iframe\n",
       "    scrolling=\"no\"\n",
       "    width=\"970px\"\n",
       "    height=\"770\"\n",
       "    src=\"iframe_figures/figure_39.html\"\n",
       "    frameborder=\"0\"\n",
       "    allowfullscreen\n",
       "></iframe>\n"
      ]
     },
     "metadata": {},
     "output_type": "display_data"
    }
   ],
   "source": [
    "nlp2_model.visualize_documents(nlp2_abs, width=950)"
   ]
  },
  {
   "cell_type": "code",
   "execution_count": 40,
   "id": "d582c1e4",
   "metadata": {},
   "outputs": [
    {
     "data": {
      "text/html": [
       "<iframe\n",
       "    scrolling=\"no\"\n",
       "    width=\"970px\"\n",
       "    height=\"770\"\n",
       "    src=\"iframe_figures/figure_40.html\"\n",
       "    frameborder=\"0\"\n",
       "    allowfullscreen\n",
       "></iframe>\n"
      ]
     },
     "metadata": {},
     "output_type": "display_data"
    }
   ],
   "source": [
    "nlp3_model.visualize_documents(nlp3_abs, width=950)"
   ]
  },
  {
   "cell_type": "markdown",
   "id": "eaf24777",
   "metadata": {},
   "source": [
    "## Visualize Topics"
   ]
  },
  {
   "cell_type": "markdown",
   "id": "dd79b6db",
   "metadata": {},
   "source": [
    "### Climate Change for all Time"
   ]
  },
  {
   "cell_type": "code",
   "execution_count": 41,
   "id": "375b2ca2",
   "metadata": {},
   "outputs": [
    {
     "data": {
      "text/html": [
       "<iframe\n",
       "    scrolling=\"no\"\n",
       "    width=\"670px\"\n",
       "    height=\"670\"\n",
       "    src=\"iframe_figures/figure_41.html\"\n",
       "    frameborder=\"0\"\n",
       "    allowfullscreen\n",
       "></iframe>\n"
      ]
     },
     "metadata": {},
     "output_type": "display_data"
    }
   ],
   "source": [
    "cc_abs_pp_model.visualize_topics()"
   ]
  },
  {
   "cell_type": "markdown",
   "id": "b13bb2ae",
   "metadata": {},
   "source": [
    "### NLP for all Time"
   ]
  },
  {
   "cell_type": "code",
   "execution_count": 42,
   "id": "a7cbbe5a",
   "metadata": {},
   "outputs": [
    {
     "data": {
      "text/html": [
       "<iframe\n",
       "    scrolling=\"no\"\n",
       "    width=\"670px\"\n",
       "    height=\"670\"\n",
       "    src=\"iframe_figures/figure_42.html\"\n",
       "    frameborder=\"0\"\n",
       "    allowfullscreen\n",
       "></iframe>\n"
      ]
     },
     "metadata": {},
     "output_type": "display_data"
    }
   ],
   "source": [
    "nlp_abs_pp_model.visualize_topics()"
   ]
  },
  {
   "cell_type": "markdown",
   "id": "5c5fec83",
   "metadata": {},
   "source": [
    "### NLP Topics in 3 Splitted Time Periods"
   ]
  },
  {
   "cell_type": "code",
   "execution_count": 43,
   "id": "7325cf7d",
   "metadata": {},
   "outputs": [
    {
     "data": {
      "text/html": [
       "<iframe\n",
       "    scrolling=\"no\"\n",
       "    width=\"670px\"\n",
       "    height=\"670\"\n",
       "    src=\"iframe_figures/figure_43.html\"\n",
       "    frameborder=\"0\"\n",
       "    allowfullscreen\n",
       "></iframe>\n"
      ]
     },
     "metadata": {},
     "output_type": "display_data"
    }
   ],
   "source": [
    "nlp1_model.visualize_topics()"
   ]
  },
  {
   "cell_type": "code",
   "execution_count": 44,
   "id": "50255755",
   "metadata": {},
   "outputs": [
    {
     "data": {
      "text/html": [
       "<iframe\n",
       "    scrolling=\"no\"\n",
       "    width=\"670px\"\n",
       "    height=\"670\"\n",
       "    src=\"iframe_figures/figure_44.html\"\n",
       "    frameborder=\"0\"\n",
       "    allowfullscreen\n",
       "></iframe>\n"
      ]
     },
     "metadata": {},
     "output_type": "display_data"
    }
   ],
   "source": [
    "nlp2_model.visualize_topics()"
   ]
  },
  {
   "cell_type": "code",
   "execution_count": 45,
   "id": "59b201ea",
   "metadata": {},
   "outputs": [
    {
     "data": {
      "text/html": [
       "<iframe\n",
       "    scrolling=\"no\"\n",
       "    width=\"670px\"\n",
       "    height=\"670\"\n",
       "    src=\"iframe_figures/figure_45.html\"\n",
       "    frameborder=\"0\"\n",
       "    allowfullscreen\n",
       "></iframe>\n"
      ]
     },
     "metadata": {},
     "output_type": "display_data"
    }
   ],
   "source": [
    "nlp3_model.visualize_topics()"
   ]
  },
  {
   "cell_type": "markdown",
   "id": "ea5187d5",
   "metadata": {},
   "source": [
    "## Topics over time"
   ]
  },
  {
   "cell_type": "markdown",
   "id": "b3ab1406",
   "metadata": {},
   "source": [
    "With full datasets"
   ]
  },
  {
   "cell_type": "code",
   "execution_count": 47,
   "id": "a7564d47",
   "metadata": {},
   "outputs": [],
   "source": [
    "cc_topics_over_time = cc_abs_pp_model.topics_over_time(cc_full_abs, cc_full_timestamp)"
   ]
  },
  {
   "cell_type": "code",
   "execution_count": 48,
   "id": "82735421",
   "metadata": {},
   "outputs": [],
   "source": [
    "nlp_topics_over_time = nlp_abs_pp_model.topics_over_time(nlp_full_abs, nlp_full_timestamp)"
   ]
  },
  {
   "cell_type": "code",
   "execution_count": 49,
   "id": "8fde7571",
   "metadata": {},
   "outputs": [
    {
     "data": {
      "text/html": [
       "<iframe\n",
       "    scrolling=\"no\"\n",
       "    width=\"970px\"\n",
       "    height=\"470\"\n",
       "    src=\"iframe_figures/figure_49.html\"\n",
       "    frameborder=\"0\"\n",
       "    allowfullscreen\n",
       "></iframe>\n"
      ]
     },
     "metadata": {},
     "output_type": "display_data"
    }
   ],
   "source": [
    "cc_abs_pp_model.visualize_topics_over_time(cc_topics_over_time, top_n_topics = 8, normalize_frequency=True, width=950)\n"
   ]
  },
  {
   "cell_type": "code",
   "execution_count": 50,
   "id": "a5f200ed",
   "metadata": {},
   "outputs": [
    {
     "data": {
      "text/html": [
       "<iframe\n",
       "    scrolling=\"no\"\n",
       "    width=\"970px\"\n",
       "    height=\"470\"\n",
       "    src=\"iframe_figures/figure_50.html\"\n",
       "    frameborder=\"0\"\n",
       "    allowfullscreen\n",
       "></iframe>\n"
      ]
     },
     "metadata": {},
     "output_type": "display_data"
    }
   ],
   "source": [
    "nlp_abs_pp_model.visualize_topics_over_time(nlp_topics_over_time, top_n_topics = 8, normalize_frequency=True, width=950)\n"
   ]
  },
  {
   "cell_type": "markdown",
   "id": "3291e83d",
   "metadata": {},
   "source": [
    "## Save Data for Graph of topics by paper category"
   ]
  },
  {
   "cell_type": "markdown",
   "id": "66ff71a6",
   "metadata": {},
   "source": [
    "### Climate Change"
   ]
  },
  {
   "cell_type": "markdown",
   "id": "f6c193c4",
   "metadata": {},
   "source": [
    "Get topic label for each article"
   ]
  },
  {
   "cell_type": "code",
   "execution_count": 52,
   "id": "e6c12bbb",
   "metadata": {},
   "outputs": [],
   "source": [
    "cc_topic_label = cc_abs_pp_model.get_document_info(cc_full_abs)['Topic']"
   ]
  },
  {
   "cell_type": "code",
   "execution_count": 53,
   "id": "8de0ea11",
   "metadata": {},
   "outputs": [],
   "source": [
    "cc_cat_list_all = []\n",
    "cc_topic_keys = list(cc_abs_pp_model.get_topics().keys())\n",
    "for topic in cc_topic_keys:\n",
    "    topic_cat_list = []\n",
    "    for i in list(cc_topic_label[cc_topic_label == topic].index):\n",
    "        topic_cat_list += cc_full_cats[i]\n",
    "    cc_cat_list_all.append(topic_cat_list)"
   ]
  },
  {
   "cell_type": "code",
   "execution_count": 54,
   "id": "d447b881",
   "metadata": {},
   "outputs": [],
   "source": [
    "# len(cc_cat_list_all)"
   ]
  },
  {
   "cell_type": "code",
   "execution_count": 55,
   "id": "f7b66dae",
   "metadata": {},
   "outputs": [],
   "source": [
    "import collections"
   ]
  },
  {
   "cell_type": "code",
   "execution_count": 56,
   "id": "603be8b5",
   "metadata": {},
   "outputs": [],
   "source": [
    "cc_topic_cat_dics = []\n",
    "for topic in cc_topic_keys:\n",
    "    cc_topic_cat_dics.append(dict(collections.Counter(cc_cat_list_all[topic])))"
   ]
  },
  {
   "cell_type": "code",
   "execution_count": 57,
   "id": "32734147",
   "metadata": {},
   "outputs": [],
   "source": [
    "topic_num = len(cc_topic_cat_dics)\n",
    "cc_topic_weight = [[0 for i in range(topic_num)] for j in range(topic_num)]\n",
    "for i in range(topic_num-1):\n",
    "    for j in range(i+1,topic_num):\n",
    "        w = 0\n",
    "        for key in cc_topic_cat_dics[i].keys():\n",
    "            if key in cc_topic_cat_dics[j].keys():\n",
    "                w += cc_topic_cat_dics[i][key]*cc_topic_cat_dics[j][key]\n",
    "        cc_topic_weight[i][j] = w\n",
    "        cc_topic_weight[j][i] = w"
   ]
  },
  {
   "cell_type": "code",
   "execution_count": 58,
   "id": "930bd53b",
   "metadata": {},
   "outputs": [
    {
     "data": {
      "text/html": [
       "<div>\n",
       "<style scoped>\n",
       "    .dataframe tbody tr th:only-of-type {\n",
       "        vertical-align: middle;\n",
       "    }\n",
       "\n",
       "    .dataframe tbody tr th {\n",
       "        vertical-align: top;\n",
       "    }\n",
       "\n",
       "    .dataframe thead th {\n",
       "        text-align: right;\n",
       "    }\n",
       "</style>\n",
       "<table border=\"1\" class=\"dataframe\">\n",
       "  <thead>\n",
       "    <tr style=\"text-align: right;\">\n",
       "      <th></th>\n",
       "      <th>Topic</th>\n",
       "      <th>Count</th>\n",
       "      <th>Name</th>\n",
       "      <th>Representation</th>\n",
       "      <th>Representative_Docs</th>\n",
       "    </tr>\n",
       "  </thead>\n",
       "  <tbody>\n",
       "    <tr>\n",
       "      <th>0</th>\n",
       "      <td>-1</td>\n",
       "      <td>557</td>\n",
       "      <td>-1_climate_change_model_use</td>\n",
       "      <td>[climate, change, model, use, global, datum, t...</td>\n",
       "      <td>[climate change impact study inform policymake...</td>\n",
       "    </tr>\n",
       "    <tr>\n",
       "      <th>1</th>\n",
       "      <td>0</td>\n",
       "      <td>159</td>\n",
       "      <td>0_energy_power_electricity_system</td>\n",
       "      <td>[energy, power, electricity, system, wind, dem...</td>\n",
       "      <td>[several research study show future sustainabl...</td>\n",
       "    </tr>\n",
       "    <tr>\n",
       "      <th>2</th>\n",
       "      <td>1</td>\n",
       "      <td>110</td>\n",
       "      <td>1_specie_population_forest_change</td>\n",
       "      <td>[specie, population, forest, change, climate, ...</td>\n",
       "      <td>[change frequency duration severity climate ex...</td>\n",
       "    </tr>\n",
       "    <tr>\n",
       "      <th>3</th>\n",
       "      <td>2</td>\n",
       "      <td>103</td>\n",
       "      <td>2_solar_temperature_global_cycle</td>\n",
       "      <td>[solar, temperature, global, cycle, earth, war...</td>\n",
       "      <td>[compare performance recently propose empirica...</td>\n",
       "    </tr>\n",
       "    <tr>\n",
       "      <th>4</th>\n",
       "      <td>3</td>\n",
       "      <td>76</td>\n",
       "      <td>3_opinion_topic_user_change</td>\n",
       "      <td>[opinion, topic, user, change, climate, twitte...</td>\n",
       "      <td>[twitter account already use many scientometri...</td>\n",
       "    </tr>\n",
       "    <tr>\n",
       "      <th>5</th>\n",
       "      <td>4</td>\n",
       "      <td>63</td>\n",
       "      <td>4_image_dataset_remotesense_datum</td>\n",
       "      <td>[image, dataset, remotesense, datum, method, m...</td>\n",
       "      <td>[climate change increase frequency severity ha...</td>\n",
       "    </tr>\n",
       "    <tr>\n",
       "      <th>6</th>\n",
       "      <td>5</td>\n",
       "      <td>58</td>\n",
       "      <td>5_crop_agricultural_agriculture_food</td>\n",
       "      <td>[crop, agricultural, agriculture, food, yield,...</td>\n",
       "      <td>[world population increase demand food demand ...</td>\n",
       "    </tr>\n",
       "    <tr>\n",
       "      <th>7</th>\n",
       "      <td>6</td>\n",
       "      <td>45</td>\n",
       "      <td>6_climate_response_model_system</td>\n",
       "      <td>[climate, response, model, system, change, equ...</td>\n",
       "      <td>[equilibrium climate sensitivity ecs key predi...</td>\n",
       "    </tr>\n",
       "    <tr>\n",
       "      <th>8</th>\n",
       "      <td>7</td>\n",
       "      <td>38</td>\n",
       "      <td>7_precipitation_weather_model_datum</td>\n",
       "      <td>[precipitation, weather, model, datum, extreme...</td>\n",
       "      <td>[impact extreme heat dome society biodiversity...</td>\n",
       "    </tr>\n",
       "    <tr>\n",
       "      <th>9</th>\n",
       "      <td>8</td>\n",
       "      <td>37</td>\n",
       "      <td>8_ice_seaice_model_projection</td>\n",
       "      <td>[ice, seaice, model, projection, sealevel, oce...</td>\n",
       "      <td>[climate simulation paleoclimate datum modern ...</td>\n",
       "    </tr>\n",
       "    <tr>\n",
       "      <th>10</th>\n",
       "      <td>9</td>\n",
       "      <td>36</td>\n",
       "      <td>9_research_climate_science_change</td>\n",
       "      <td>[research, climate, science, change, policy, s...</td>\n",
       "      <td>[humanitarian challenge include natural_disast...</td>\n",
       "    </tr>\n",
       "    <tr>\n",
       "      <th>11</th>\n",
       "      <td>10</td>\n",
       "      <td>30</td>\n",
       "      <td>10_rainfall_drought_precipitation_region</td>\n",
       "      <td>[rainfall, drought, precipitation, region, tre...</td>\n",
       "      <td>[climate model robustly imply significant chan...</td>\n",
       "    </tr>\n",
       "    <tr>\n",
       "      <th>12</th>\n",
       "      <td>11</td>\n",
       "      <td>28</td>\n",
       "      <td>11_wildfire_fire_detection_risk</td>\n",
       "      <td>[wildfire, fire, detection, risk, model, burn,...</td>\n",
       "      <td>[research show climate change create warm temp...</td>\n",
       "    </tr>\n",
       "    <tr>\n",
       "      <th>13</th>\n",
       "      <td>12</td>\n",
       "      <td>24</td>\n",
       "      <td>12_methane_emission_satellite_pollutant</td>\n",
       "      <td>[methane, emission, satellite, pollutant, pred...</td>\n",
       "      <td>[coal mine globally important source methane a...</td>\n",
       "    </tr>\n",
       "    <tr>\n",
       "      <th>14</th>\n",
       "      <td>13</td>\n",
       "      <td>23</td>\n",
       "      <td>13_model_projection_uncertainty_climate</td>\n",
       "      <td>[model, projection, uncertainty, climate, baye...</td>\n",
       "      <td>[quantify risk global warming exceed critical ...</td>\n",
       "    </tr>\n",
       "    <tr>\n",
       "      <th>15</th>\n",
       "      <td>14</td>\n",
       "      <td>23</td>\n",
       "      <td>14_co_adsorption_material_dope</td>\n",
       "      <td>[co, adsorption, material, dope, reaction, hig...</td>\n",
       "      <td>[global warming see drastic environmental prob...</td>\n",
       "    </tr>\n",
       "    <tr>\n",
       "      <th>16</th>\n",
       "      <td>15</td>\n",
       "      <td>22</td>\n",
       "      <td>15_policy_model_damage_rate</td>\n",
       "      <td>[policy, model, damage, rate, decision, iam, c...</td>\n",
       "      <td>[work base framework propose determine optimal...</td>\n",
       "    </tr>\n",
       "    <tr>\n",
       "      <th>17</th>\n",
       "      <td>16</td>\n",
       "      <td>20</td>\n",
       "      <td>16_disaster_network_flood_hurricane</td>\n",
       "      <td>[disaster, network, flood, hurricane, vulnerab...</td>\n",
       "      <td>[social_media data aid disaster response damag...</td>\n",
       "    </tr>\n",
       "    <tr>\n",
       "      <th>18</th>\n",
       "      <td>17</td>\n",
       "      <td>19</td>\n",
       "      <td>17_urban_city_tree_heat</td>\n",
       "      <td>[urban, city, tree, heat, street, building, mi...</td>\n",
       "      <td>[rapid population growth climate change drive ...</td>\n",
       "    </tr>\n",
       "    <tr>\n",
       "      <th>19</th>\n",
       "      <td>18</td>\n",
       "      <td>18</td>\n",
       "      <td>18_extreme_event_distribution_temperature</td>\n",
       "      <td>[extreme, event, distribution, temperature, sh...</td>\n",
       "      <td>[rapid change climatic condition threaten soci...</td>\n",
       "    </tr>\n",
       "    <tr>\n",
       "      <th>20</th>\n",
       "      <td>19</td>\n",
       "      <td>16</td>\n",
       "      <td>19_forest_deforestation_tree_map</td>\n",
       "      <td>[forest, deforestation, tree, map, lidar, accu...</td>\n",
       "      <td>[propose inference use satellite image time_se...</td>\n",
       "    </tr>\n",
       "    <tr>\n",
       "      <th>21</th>\n",
       "      <td>20</td>\n",
       "      <td>16</td>\n",
       "      <td>20_disease_spread_rainfall_mosquito</td>\n",
       "      <td>[disease, spread, rainfall, mosquito, pandemic...</td>\n",
       "      <td>[fever disease cause crimean virus cchfv tick ...</td>\n",
       "    </tr>\n",
       "    <tr>\n",
       "      <th>22</th>\n",
       "      <td>21</td>\n",
       "      <td>15</td>\n",
       "      <td>21_civilization_energy_global_warming</td>\n",
       "      <td>[civilization, energy, global, warming, climat...</td>\n",
       "      <td>[level technological development civilization ...</td>\n",
       "    </tr>\n",
       "    <tr>\n",
       "      <th>23</th>\n",
       "      <td>22</td>\n",
       "      <td>15</td>\n",
       "      <td>22_gasmixture_detector_gas_rpc</td>\n",
       "      <td>[gasmixture, detector, gas, rpc, mixture, cern...</td>\n",
       "      <td>[resistive_plate chamber rpc use muon spectrom...</td>\n",
       "    </tr>\n",
       "    <tr>\n",
       "      <th>24</th>\n",
       "      <td>23</td>\n",
       "      <td>13</td>\n",
       "      <td>23_co_injection_storage_pressure</td>\n",
       "      <td>[co, injection, storage, pressure, aquifer, se...</td>\n",
       "      <td>[carbon_dioxide co injection saline aquifer me...</td>\n",
       "    </tr>\n",
       "    <tr>\n",
       "      <th>25</th>\n",
       "      <td>24</td>\n",
       "      <td>12</td>\n",
       "      <td>24_carbon_cost_price_emission</td>\n",
       "      <td>[carbon, cost, price, emission, financial, mar...</td>\n",
       "      <td>[climate change global warming significant cha...</td>\n",
       "    </tr>\n",
       "    <tr>\n",
       "      <th>26</th>\n",
       "      <td>25</td>\n",
       "      <td>12</td>\n",
       "      <td>25_emission_co_drainage_methane</td>\n",
       "      <td>[emission, co, drainage, methane, global, perc...</td>\n",
       "      <td>[diurnal cycle co emission combustion cement p...</td>\n",
       "    </tr>\n",
       "  </tbody>\n",
       "</table>\n",
       "</div>"
      ],
      "text/plain": [
       "    Topic  Count                                       Name  \\\n",
       "0      -1    557                -1_climate_change_model_use   \n",
       "1       0    159          0_energy_power_electricity_system   \n",
       "2       1    110          1_specie_population_forest_change   \n",
       "3       2    103           2_solar_temperature_global_cycle   \n",
       "4       3     76                3_opinion_topic_user_change   \n",
       "5       4     63          4_image_dataset_remotesense_datum   \n",
       "6       5     58       5_crop_agricultural_agriculture_food   \n",
       "7       6     45            6_climate_response_model_system   \n",
       "8       7     38        7_precipitation_weather_model_datum   \n",
       "9       8     37              8_ice_seaice_model_projection   \n",
       "10      9     36          9_research_climate_science_change   \n",
       "11     10     30   10_rainfall_drought_precipitation_region   \n",
       "12     11     28            11_wildfire_fire_detection_risk   \n",
       "13     12     24    12_methane_emission_satellite_pollutant   \n",
       "14     13     23    13_model_projection_uncertainty_climate   \n",
       "15     14     23             14_co_adsorption_material_dope   \n",
       "16     15     22                15_policy_model_damage_rate   \n",
       "17     16     20        16_disaster_network_flood_hurricane   \n",
       "18     17     19                    17_urban_city_tree_heat   \n",
       "19     18     18  18_extreme_event_distribution_temperature   \n",
       "20     19     16           19_forest_deforestation_tree_map   \n",
       "21     20     16        20_disease_spread_rainfall_mosquito   \n",
       "22     21     15      21_civilization_energy_global_warming   \n",
       "23     22     15             22_gasmixture_detector_gas_rpc   \n",
       "24     23     13           23_co_injection_storage_pressure   \n",
       "25     24     12              24_carbon_cost_price_emission   \n",
       "26     25     12            25_emission_co_drainage_methane   \n",
       "\n",
       "                                       Representation  \\\n",
       "0   [climate, change, model, use, global, datum, t...   \n",
       "1   [energy, power, electricity, system, wind, dem...   \n",
       "2   [specie, population, forest, change, climate, ...   \n",
       "3   [solar, temperature, global, cycle, earth, war...   \n",
       "4   [opinion, topic, user, change, climate, twitte...   \n",
       "5   [image, dataset, remotesense, datum, method, m...   \n",
       "6   [crop, agricultural, agriculture, food, yield,...   \n",
       "7   [climate, response, model, system, change, equ...   \n",
       "8   [precipitation, weather, model, datum, extreme...   \n",
       "9   [ice, seaice, model, projection, sealevel, oce...   \n",
       "10  [research, climate, science, change, policy, s...   \n",
       "11  [rainfall, drought, precipitation, region, tre...   \n",
       "12  [wildfire, fire, detection, risk, model, burn,...   \n",
       "13  [methane, emission, satellite, pollutant, pred...   \n",
       "14  [model, projection, uncertainty, climate, baye...   \n",
       "15  [co, adsorption, material, dope, reaction, hig...   \n",
       "16  [policy, model, damage, rate, decision, iam, c...   \n",
       "17  [disaster, network, flood, hurricane, vulnerab...   \n",
       "18  [urban, city, tree, heat, street, building, mi...   \n",
       "19  [extreme, event, distribution, temperature, sh...   \n",
       "20  [forest, deforestation, tree, map, lidar, accu...   \n",
       "21  [disease, spread, rainfall, mosquito, pandemic...   \n",
       "22  [civilization, energy, global, warming, climat...   \n",
       "23  [gasmixture, detector, gas, rpc, mixture, cern...   \n",
       "24  [co, injection, storage, pressure, aquifer, se...   \n",
       "25  [carbon, cost, price, emission, financial, mar...   \n",
       "26  [emission, co, drainage, methane, global, perc...   \n",
       "\n",
       "                                  Representative_Docs  \n",
       "0   [climate change impact study inform policymake...  \n",
       "1   [several research study show future sustainabl...  \n",
       "2   [change frequency duration severity climate ex...  \n",
       "3   [compare performance recently propose empirica...  \n",
       "4   [twitter account already use many scientometri...  \n",
       "5   [climate change increase frequency severity ha...  \n",
       "6   [world population increase demand food demand ...  \n",
       "7   [equilibrium climate sensitivity ecs key predi...  \n",
       "8   [impact extreme heat dome society biodiversity...  \n",
       "9   [climate simulation paleoclimate datum modern ...  \n",
       "10  [humanitarian challenge include natural_disast...  \n",
       "11  [climate model robustly imply significant chan...  \n",
       "12  [research show climate change create warm temp...  \n",
       "13  [coal mine globally important source methane a...  \n",
       "14  [quantify risk global warming exceed critical ...  \n",
       "15  [global warming see drastic environmental prob...  \n",
       "16  [work base framework propose determine optimal...  \n",
       "17  [social_media data aid disaster response damag...  \n",
       "18  [rapid population growth climate change drive ...  \n",
       "19  [rapid change climatic condition threaten soci...  \n",
       "20  [propose inference use satellite image time_se...  \n",
       "21  [fever disease cause crimean virus cchfv tick ...  \n",
       "22  [level technological development civilization ...  \n",
       "23  [resistive_plate chamber rpc use muon spectrom...  \n",
       "24  [carbon_dioxide co injection saline aquifer me...  \n",
       "25  [climate change global warming significant cha...  \n",
       "26  [diurnal cycle co emission combustion cement p...  "
      ]
     },
     "execution_count": 58,
     "metadata": {},
     "output_type": "execute_result"
    }
   ],
   "source": [
    "cc_abs_pp_model.get_topic_info()"
   ]
  },
  {
   "cell_type": "code",
   "execution_count": 59,
   "id": "c11b99ad",
   "metadata": {},
   "outputs": [],
   "source": [
    "cc_weight_df = pd.DataFrame(cc_topic_weight)"
   ]
  },
  {
   "cell_type": "code",
   "execution_count": null,
   "id": "89a02d3c",
   "metadata": {
    "scrolled": true
   },
   "outputs": [],
   "source": [
    "# cc_weight_df"
   ]
  },
  {
   "cell_type": "code",
   "execution_count": 60,
   "id": "f8f93aaa",
   "metadata": {},
   "outputs": [],
   "source": [
    "cc_abs_pp_model.get_topic_info().to_parquet('cc_topic_name_df.parquet', engine='pyarrow', index=False)"
   ]
  },
  {
   "cell_type": "code",
   "execution_count": 61,
   "id": "ae05d7cc",
   "metadata": {},
   "outputs": [],
   "source": [
    "cc_weight_df.to_parquet('cc_graph_weights_df.parquet', engine='pyarrow', index=False)"
   ]
  },
  {
   "cell_type": "markdown",
   "id": "25703f19",
   "metadata": {},
   "source": [
    "### NLP"
   ]
  },
  {
   "cell_type": "markdown",
   "id": "26758fc1",
   "metadata": {},
   "source": [
    "Get topic label for each article"
   ]
  },
  {
   "cell_type": "code",
   "execution_count": 62,
   "id": "40da15c6",
   "metadata": {},
   "outputs": [],
   "source": [
    "nlp_topic_label = nlp_abs_pp_model.get_document_info(nlp_full_abs)['Topic']"
   ]
  },
  {
   "cell_type": "code",
   "execution_count": 63,
   "id": "faa9858d",
   "metadata": {},
   "outputs": [],
   "source": [
    "nlp_cat_list_all = []\n",
    "nlp_topic_keys = list(nlp_abs_pp_model.get_topics().keys())\n",
    "for topic in nlp_topic_keys:\n",
    "    topic_cat_list = []\n",
    "    for i in list(nlp_topic_label[nlp_topic_label == topic].index):\n",
    "        topic_cat_list += nlp_full_cats[i]\n",
    "    nlp_cat_list_all.append(topic_cat_list)"
   ]
  },
  {
   "cell_type": "code",
   "execution_count": null,
   "id": "bd0390fc",
   "metadata": {},
   "outputs": [],
   "source": [
    "# len(nlp_cat_list_all)"
   ]
  },
  {
   "cell_type": "code",
   "execution_count": 64,
   "id": "6e003fa8",
   "metadata": {},
   "outputs": [],
   "source": [
    "import collections"
   ]
  },
  {
   "cell_type": "code",
   "execution_count": 65,
   "id": "1b4d64f2",
   "metadata": {},
   "outputs": [],
   "source": [
    "nlp_topic_cat_dics = []\n",
    "for topic in nlp_topic_keys:\n",
    "    nlp_topic_cat_dics.append(dict(collections.Counter(nlp_cat_list_all[topic])))"
   ]
  },
  {
   "cell_type": "code",
   "execution_count": 66,
   "id": "194a4504",
   "metadata": {},
   "outputs": [],
   "source": [
    "topic_num_nlp = len(nlp_topic_cat_dics)\n",
    "nlp_topic_weight = [[0 for i in range(topic_num_nlp)] for j in range(topic_num_nlp)]\n",
    "for i in range(topic_num_nlp-1):\n",
    "    for j in range(i+1,topic_num_nlp):\n",
    "        w = 0\n",
    "        for key in nlp_topic_cat_dics[i].keys():\n",
    "            if key in nlp_topic_cat_dics[j].keys():\n",
    "                w += nlp_topic_cat_dics[i][key]*nlp_topic_cat_dics[j][key]\n",
    "        nlp_topic_weight[i][j] = w\n",
    "        nlp_topic_weight[j][i] = w"
   ]
  },
  {
   "cell_type": "code",
   "execution_count": 67,
   "id": "933d5589",
   "metadata": {},
   "outputs": [
    {
     "data": {
      "text/html": [
       "<div>\n",
       "<style scoped>\n",
       "    .dataframe tbody tr th:only-of-type {\n",
       "        vertical-align: middle;\n",
       "    }\n",
       "\n",
       "    .dataframe tbody tr th {\n",
       "        vertical-align: top;\n",
       "    }\n",
       "\n",
       "    .dataframe thead th {\n",
       "        text-align: right;\n",
       "    }\n",
       "</style>\n",
       "<table border=\"1\" class=\"dataframe\">\n",
       "  <thead>\n",
       "    <tr style=\"text-align: right;\">\n",
       "      <th></th>\n",
       "      <th>Topic</th>\n",
       "      <th>Count</th>\n",
       "      <th>Name</th>\n",
       "      <th>Representation</th>\n",
       "      <th>Representative_Docs</th>\n",
       "    </tr>\n",
       "  </thead>\n",
       "  <tbody>\n",
       "    <tr>\n",
       "      <th>0</th>\n",
       "      <td>-1</td>\n",
       "      <td>3807</td>\n",
       "      <td>-1_model_language_task_datum</td>\n",
       "      <td>[model, language, task, datum, natural, learn,...</td>\n",
       "      <td>[classification essential fundamental task mac...</td>\n",
       "    </tr>\n",
       "    <tr>\n",
       "      <th>1</th>\n",
       "      <td>0</td>\n",
       "      <td>522</td>\n",
       "      <td>0_clinical_medical_patient_biomedical</td>\n",
       "      <td>[clinical, medical, patient, biomedical, disea...</td>\n",
       "      <td>[pre training show success different area mach...</td>\n",
       "    </tr>\n",
       "    <tr>\n",
       "      <th>2</th>\n",
       "      <td>1</td>\n",
       "      <td>373</td>\n",
       "      <td>1_embedding_word_embed_vector</td>\n",
       "      <td>[embedding, word, embed, vector, representatio...</td>\n",
       "      <td>[understand human language sub challenge way i...</td>\n",
       "    </tr>\n",
       "    <tr>\n",
       "      <th>3</th>\n",
       "      <td>2</td>\n",
       "      <td>187</td>\n",
       "      <td>2_bias_gender_fairness_debiase</td>\n",
       "      <td>[bias, gender, fairness, debiase, genderbia, s...</td>\n",
       "      <td>[last_year word sentence embedding establish t...</td>\n",
       "    </tr>\n",
       "    <tr>\n",
       "      <th>4</th>\n",
       "      <td>3</td>\n",
       "      <td>169</td>\n",
       "      <td>3_adversarial_attack_adversarialexample_robust...</td>\n",
       "      <td>[adversarial, attack, adversarialexample, robu...</td>\n",
       "      <td>[robustness huge transformer base model natura...</td>\n",
       "    </tr>\n",
       "    <tr>\n",
       "      <th>...</th>\n",
       "      <td>...</td>\n",
       "      <td>...</td>\n",
       "      <td>...</td>\n",
       "      <td>...</td>\n",
       "      <td>...</td>\n",
       "    </tr>\n",
       "    <tr>\n",
       "      <th>135</th>\n",
       "      <td>134</td>\n",
       "      <td>11</td>\n",
       "      <td>134_moral_ethical_morality_llm</td>\n",
       "      <td>[moral, ethical, morality, llm, ethic, value, ...</td>\n",
       "      <td>[morality play important role culture identity...</td>\n",
       "    </tr>\n",
       "    <tr>\n",
       "      <th>136</th>\n",
       "      <td>135</td>\n",
       "      <td>11</td>\n",
       "      <td>135_cluster_clustering_brownclustere_hierarchical</td>\n",
       "      <td>[cluster, clustering, brownclustere, hierarchi...</td>\n",
       "      <td>[paper describe research method generate word ...</td>\n",
       "    </tr>\n",
       "    <tr>\n",
       "      <th>137</th>\n",
       "      <td>136</td>\n",
       "      <td>11</td>\n",
       "      <td>136_formality_action_long_editor</td>\n",
       "      <td>[formality, action, long, editor, swap, sequen...</td>\n",
       "      <td>[task receive remarkable attention wide applic...</td>\n",
       "    </tr>\n",
       "    <tr>\n",
       "      <th>138</th>\n",
       "      <td>137</td>\n",
       "      <td>11</td>\n",
       "      <td>137_speech_transformer_audio_positional</td>\n",
       "      <td>[speech, transformer, audio, positional, pool,...</td>\n",
       "      <td>[transformer gain increase popularity wide_ran...</td>\n",
       "    </tr>\n",
       "    <tr>\n",
       "      <th>139</th>\n",
       "      <td>138</td>\n",
       "      <td>10</td>\n",
       "      <td>138_programming_revision_logicprogramme_logic</td>\n",
       "      <td>[programming, revision, logicprogramme, logic,...</td>\n",
       "      <td>[international event present research logic_pr...</td>\n",
       "    </tr>\n",
       "  </tbody>\n",
       "</table>\n",
       "<p>140 rows × 5 columns</p>\n",
       "</div>"
      ],
      "text/plain": [
       "     Topic  Count                                               Name  \\\n",
       "0       -1   3807                       -1_model_language_task_datum   \n",
       "1        0    522              0_clinical_medical_patient_biomedical   \n",
       "2        1    373                      1_embedding_word_embed_vector   \n",
       "3        2    187                     2_bias_gender_fairness_debiase   \n",
       "4        3    169  3_adversarial_attack_adversarialexample_robust...   \n",
       "..     ...    ...                                                ...   \n",
       "135    134     11                     134_moral_ethical_morality_llm   \n",
       "136    135     11  135_cluster_clustering_brownclustere_hierarchical   \n",
       "137    136     11                   136_formality_action_long_editor   \n",
       "138    137     11            137_speech_transformer_audio_positional   \n",
       "139    138     10      138_programming_revision_logicprogramme_logic   \n",
       "\n",
       "                                        Representation  \\\n",
       "0    [model, language, task, datum, natural, learn,...   \n",
       "1    [clinical, medical, patient, biomedical, disea...   \n",
       "2    [embedding, word, embed, vector, representatio...   \n",
       "3    [bias, gender, fairness, debiase, genderbia, s...   \n",
       "4    [adversarial, attack, adversarialexample, robu...   \n",
       "..                                                 ...   \n",
       "135  [moral, ethical, morality, llm, ethic, value, ...   \n",
       "136  [cluster, clustering, brownclustere, hierarchi...   \n",
       "137  [formality, action, long, editor, swap, sequen...   \n",
       "138  [speech, transformer, audio, positional, pool,...   \n",
       "139  [programming, revision, logicprogramme, logic,...   \n",
       "\n",
       "                                   Representative_Docs  \n",
       "0    [classification essential fundamental task mac...  \n",
       "1    [pre training show success different area mach...  \n",
       "2    [understand human language sub challenge way i...  \n",
       "3    [last_year word sentence embedding establish t...  \n",
       "4    [robustness huge transformer base model natura...  \n",
       "..                                                 ...  \n",
       "135  [morality play important role culture identity...  \n",
       "136  [paper describe research method generate word ...  \n",
       "137  [task receive remarkable attention wide applic...  \n",
       "138  [transformer gain increase popularity wide_ran...  \n",
       "139  [international event present research logic_pr...  \n",
       "\n",
       "[140 rows x 5 columns]"
      ]
     },
     "execution_count": 67,
     "metadata": {},
     "output_type": "execute_result"
    }
   ],
   "source": [
    "nlp_abs_pp_model.get_topic_info()"
   ]
  },
  {
   "cell_type": "code",
   "execution_count": 68,
   "id": "49ea97b2",
   "metadata": {},
   "outputs": [],
   "source": [
    "nlp_weight_df = pd.DataFrame(nlp_topic_weight)"
   ]
  },
  {
   "cell_type": "code",
   "execution_count": null,
   "id": "19ecec43",
   "metadata": {
    "scrolled": true
   },
   "outputs": [],
   "source": [
    "# nlp_weight_df"
   ]
  },
  {
   "cell_type": "code",
   "execution_count": 69,
   "id": "32c5cfbf",
   "metadata": {},
   "outputs": [],
   "source": [
    "nlp_abs_pp_model.get_topic_info().to_parquet('nlp_topic_name_df.parquet', engine='pyarrow', index=False)"
   ]
  },
  {
   "cell_type": "code",
   "execution_count": 70,
   "id": "c1206797",
   "metadata": {},
   "outputs": [],
   "source": [
    "nlp_weight_df.to_parquet('nlp_graph_weights_df.parquet', engine='pyarrow', index=False)"
   ]
  },
  {
   "cell_type": "code",
   "execution_count": null,
   "id": "2eaf3e5f",
   "metadata": {},
   "outputs": [],
   "source": []
  },
  {
   "cell_type": "code",
   "execution_count": null,
   "id": "9ca123ab",
   "metadata": {},
   "outputs": [],
   "source": []
  }
 ],
 "metadata": {
  "kernelspec": {
   "display_name": "Python 3 (ipykernel)",
   "language": "python",
   "name": "python3"
  },
  "language_info": {
   "codemirror_mode": {
    "name": "ipython",
    "version": 3
   },
   "file_extension": ".py",
   "mimetype": "text/x-python",
   "name": "python",
   "nbconvert_exporter": "python",
   "pygments_lexer": "ipython3",
   "version": "3.8.16"
  }
 },
 "nbformat": 4,
 "nbformat_minor": 5
}
