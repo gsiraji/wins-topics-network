{
 "cells": [
  {
   "cell_type": "markdown",
   "id": "d50ae447",
   "metadata": {},
   "source": [
    "# BERTopic"
   ]
  },
  {
   "cell_type": "code",
   "execution_count": 1,
   "id": "98f03696",
   "metadata": {},
   "outputs": [],
   "source": [
    "import pandas as pd"
   ]
  },
  {
   "cell_type": "code",
   "execution_count": 2,
   "id": "9586724f",
   "metadata": {
    "scrolled": true
   },
   "outputs": [
    {
     "name": "stderr",
     "output_type": "stream",
     "text": [
      "/Users/moyi/opt/anaconda3/envs/wins-project-bert/lib/python3.8/site-packages/umap/distances.py:1063: NumbaDeprecationWarning: \u001b[1mThe 'nopython' keyword argument was not supplied to the 'numba.jit' decorator. The implicit default value for this argument is currently False, but it will be changed to True in Numba 0.59.0. See https://numba.readthedocs.io/en/stable/reference/deprecation.html#deprecation-of-object-mode-fall-back-behaviour-when-using-jit for details.\u001b[0m\n",
      "  @numba.jit()\n",
      "/Users/moyi/opt/anaconda3/envs/wins-project-bert/lib/python3.8/site-packages/umap/distances.py:1071: NumbaDeprecationWarning: \u001b[1mThe 'nopython' keyword argument was not supplied to the 'numba.jit' decorator. The implicit default value for this argument is currently False, but it will be changed to True in Numba 0.59.0. See https://numba.readthedocs.io/en/stable/reference/deprecation.html#deprecation-of-object-mode-fall-back-behaviour-when-using-jit for details.\u001b[0m\n",
      "  @numba.jit()\n",
      "/Users/moyi/opt/anaconda3/envs/wins-project-bert/lib/python3.8/site-packages/umap/distances.py:1086: NumbaDeprecationWarning: \u001b[1mThe 'nopython' keyword argument was not supplied to the 'numba.jit' decorator. The implicit default value for this argument is currently False, but it will be changed to True in Numba 0.59.0. See https://numba.readthedocs.io/en/stable/reference/deprecation.html#deprecation-of-object-mode-fall-back-behaviour-when-using-jit for details.\u001b[0m\n",
      "  @numba.jit()\n",
      "/Users/moyi/opt/anaconda3/envs/wins-project-bert/lib/python3.8/site-packages/umap/umap_.py:660: NumbaDeprecationWarning: \u001b[1mThe 'nopython' keyword argument was not supplied to the 'numba.jit' decorator. The implicit default value for this argument is currently False, but it will be changed to True in Numba 0.59.0. See https://numba.readthedocs.io/en/stable/reference/deprecation.html#deprecation-of-object-mode-fall-back-behaviour-when-using-jit for details.\u001b[0m\n",
      "  @numba.jit()\n",
      "2023-06-12 11:04:30.117694: I tensorflow/core/platform/cpu_feature_guard.cc:182] This TensorFlow binary is optimized to use available CPU instructions in performance-critical operations.\n",
      "To enable the following instructions: AVX2 FMA, in other operations, rebuild TensorFlow with the appropriate compiler flags.\n"
     ]
    }
   ],
   "source": [
    "from bertopic import BERTopic"
   ]
  },
  {
   "cell_type": "markdown",
   "id": "05c1058b",
   "metadata": {},
   "source": [
    "## Load Data"
   ]
  },
  {
   "cell_type": "code",
   "execution_count": 3,
   "id": "05a96d29",
   "metadata": {},
   "outputs": [],
   "source": [
    "cc1 = pd.read_parquet('./climate_change_t1.parquet', engine='pyarrow')\n",
    "cc2 = pd.read_parquet('./climate_change_t2.parquet', engine='pyarrow')\n",
    "cc3 = pd.read_parquet('./climate_change_t3.parquet', engine='pyarrow')"
   ]
  },
  {
   "cell_type": "code",
   "execution_count": 4,
   "id": "3c76e7a4",
   "metadata": {},
   "outputs": [],
   "source": [
    "nlp1 = pd.read_parquet('./nlp_t1.parquet', engine='pyarrow')\n",
    "nlp2 = pd.read_parquet('./nlp_t2.parquet', engine='pyarrow')\n",
    "nlp3 = pd.read_parquet('./nlp_t3.parquet', engine='pyarrow')"
   ]
  },
  {
   "cell_type": "code",
   "execution_count": 5,
   "id": "3de6c20c",
   "metadata": {},
   "outputs": [],
   "source": [
    "cc1_abs = cc1.abstract_cleaned.values.tolist()\n",
    "cc2_abs = cc2.abstract_cleaned.values.tolist()\n",
    "cc3_abs = cc3.abstract_cleaned.values.tolist()"
   ]
  },
  {
   "cell_type": "code",
   "execution_count": 6,
   "id": "e2b13e3b",
   "metadata": {},
   "outputs": [],
   "source": [
    "nlp1_abs = nlp1.abstract_cleaned.values.tolist()\n",
    "nlp2_abs = nlp2.abstract_cleaned.values.tolist()\n",
    "nlp3_abs = nlp3.abstract_cleaned.values.tolist()"
   ]
  },
  {
   "cell_type": "markdown",
   "id": "4a1aa08a",
   "metadata": {},
   "source": [
    "# BERTopic on Climate Change"
   ]
  },
  {
   "cell_type": "code",
   "execution_count": 7,
   "id": "450546b4",
   "metadata": {},
   "outputs": [],
   "source": [
    "cc1_model = BERTopic()"
   ]
  },
  {
   "cell_type": "code",
   "execution_count": 8,
   "id": "287f726e",
   "metadata": {},
   "outputs": [],
   "source": [
    "_,_ = cc1_model.fit_transform(cc1_abs)"
   ]
  },
  {
   "cell_type": "code",
   "execution_count": 9,
   "id": "d7818f7d",
   "metadata": {},
   "outputs": [],
   "source": [
    "cc2_model = BERTopic()"
   ]
  },
  {
   "cell_type": "code",
   "execution_count": 10,
   "id": "6ebfb742",
   "metadata": {},
   "outputs": [],
   "source": [
    "_,_ = cc2_model.fit_transform(cc2_abs)"
   ]
  },
  {
   "cell_type": "code",
   "execution_count": 11,
   "id": "44dbd755",
   "metadata": {},
   "outputs": [],
   "source": [
    "cc3_model = BERTopic()"
   ]
  },
  {
   "cell_type": "code",
   "execution_count": 12,
   "id": "4c086adb",
   "metadata": {},
   "outputs": [],
   "source": [
    "_,_ = cc3_model.fit_transform(cc3_abs)"
   ]
  },
  {
   "cell_type": "markdown",
   "id": "b4b0965e",
   "metadata": {},
   "source": [
    "# BERTopic on NLP"
   ]
  },
  {
   "cell_type": "code",
   "execution_count": 13,
   "id": "94f0473b",
   "metadata": {},
   "outputs": [],
   "source": [
    "nlp1_model = BERTopic()"
   ]
  },
  {
   "cell_type": "code",
   "execution_count": 14,
   "id": "2009dd92",
   "metadata": {},
   "outputs": [],
   "source": [
    "_,_ = nlp1_model.fit_transform(nlp1_abs)"
   ]
  },
  {
   "cell_type": "code",
   "execution_count": 15,
   "id": "0b5e8bb0",
   "metadata": {},
   "outputs": [],
   "source": [
    "nlp2_model = BERTopic()"
   ]
  },
  {
   "cell_type": "code",
   "execution_count": 16,
   "id": "f800eb8e",
   "metadata": {},
   "outputs": [],
   "source": [
    "_,_ = nlp2_model.fit_transform(nlp2_abs)"
   ]
  },
  {
   "cell_type": "code",
   "execution_count": 17,
   "id": "637c842e",
   "metadata": {},
   "outputs": [],
   "source": [
    "nlp3_model = BERTopic()"
   ]
  },
  {
   "cell_type": "code",
   "execution_count": 18,
   "id": "86fe3f29",
   "metadata": {},
   "outputs": [],
   "source": [
    "_,_ = nlp3_model.fit_transform(nlp3_abs)"
   ]
  },
  {
   "cell_type": "markdown",
   "id": "e9ea73e1",
   "metadata": {},
   "source": [
    "# save model"
   ]
  },
  {
   "cell_type": "code",
   "execution_count": 19,
   "id": "3053d8fb",
   "metadata": {},
   "outputs": [],
   "source": [
    "cc1_model.save(\"cc_model_time1\")"
   ]
  },
  {
   "cell_type": "code",
   "execution_count": 20,
   "id": "1f7c322d",
   "metadata": {},
   "outputs": [],
   "source": [
    "cc2_model.save(\"cc_model_time2\")"
   ]
  },
  {
   "cell_type": "code",
   "execution_count": 21,
   "id": "4bceb8a7",
   "metadata": {},
   "outputs": [],
   "source": [
    "cc3_model.save(\"cc_model_time3\")"
   ]
  },
  {
   "cell_type": "code",
   "execution_count": 22,
   "id": "4345baf9",
   "metadata": {},
   "outputs": [],
   "source": [
    "nlp1_model.save(\"nlp_model_time1\")"
   ]
  },
  {
   "cell_type": "code",
   "execution_count": 23,
   "id": "58652834",
   "metadata": {},
   "outputs": [],
   "source": [
    "nlp2_model.save(\"nlp_model_time2\")"
   ]
  },
  {
   "cell_type": "code",
   "execution_count": 24,
   "id": "79fa42ed",
   "metadata": {},
   "outputs": [],
   "source": [
    "nlp3_model.save(\"nlp_model_time3\")"
   ]
  },
  {
   "cell_type": "code",
   "execution_count": null,
   "id": "aba3e5b9",
   "metadata": {},
   "outputs": [],
   "source": []
  }
 ],
 "metadata": {
  "kernelspec": {
   "display_name": "Python 3 (ipykernel)",
   "language": "python",
   "name": "python3"
  },
  "language_info": {
   "codemirror_mode": {
    "name": "ipython",
    "version": 3
   },
   "file_extension": ".py",
   "mimetype": "text/x-python",
   "name": "python",
   "nbconvert_exporter": "python",
   "pygments_lexer": "ipython3",
   "version": "3.8.16"
  }
 },
 "nbformat": 4,
 "nbformat_minor": 5
}
