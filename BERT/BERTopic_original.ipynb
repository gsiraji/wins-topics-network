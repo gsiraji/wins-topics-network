{
 "cells": [
  {
   "cell_type": "markdown",
   "id": "fa740f70",
   "metadata": {},
   "source": [
    "# Import Data"
   ]
  },
  {
   "cell_type": "code",
   "execution_count": null,
   "id": "a63eae91",
   "metadata": {},
   "outputs": [],
   "source": [
    "import pandas as pd"
   ]
  },
  {
   "cell_type": "code",
   "execution_count": null,
   "id": "b207333d",
   "metadata": {},
   "outputs": [],
   "source": [
    "nlp_dataset = pd.read_parquet('./arxiv_nlp.parquet', engine='pyarrow')"
   ]
  },
  {
   "cell_type": "code",
   "execution_count": null,
   "id": "11e32ccc",
   "metadata": {},
   "outputs": [],
   "source": [
    "cc_dataset = pd.read_parquet('./arxiv_climate_change.parquet', engine='pyarrow')"
   ]
  },
  {
   "cell_type": "code",
   "execution_count": null,
   "id": "211f3817",
   "metadata": {},
   "outputs": [],
   "source": [
    "nlp_dataset"
   ]
  },
  {
   "cell_type": "code",
   "execution_count": null,
   "id": "4a5fbebd",
   "metadata": {},
   "outputs": [],
   "source": [
    "cc_dataset"
   ]
  },
  {
   "cell_type": "code",
   "execution_count": null,
   "id": "eeb04d92",
   "metadata": {},
   "outputs": [],
   "source": []
  },
  {
   "cell_type": "markdown",
   "id": "65dfcefc",
   "metadata": {},
   "source": [
    "# BERTopic"
   ]
  },
  {
   "cell_type": "code",
   "execution_count": null,
   "id": "987b5a3f",
   "metadata": {},
   "outputs": [],
   "source": [
    "from bertopic import BERTopic"
   ]
  },
  {
   "cell_type": "markdown",
   "id": "94f117f1",
   "metadata": {},
   "source": [
    "## Climate Change"
   ]
  },
  {
   "cell_type": "markdown",
   "id": "bab3cf1b",
   "metadata": {},
   "source": [
    "## Abstract"
   ]
  },
  {
   "cell_type": "code",
   "execution_count": null,
   "id": "9f3778d5",
   "metadata": {},
   "outputs": [],
   "source": [
    "# clean abstract and make list of strings of abstracts\n",
    "cc_abs_list = cc_dataset[\"abstract\"].apply(lambda x: x[2:-1]).values.tolist()"
   ]
  },
  {
   "cell_type": "code",
   "execution_count": null,
   "id": "450546b4",
   "metadata": {},
   "outputs": [],
   "source": [
    "cc_topic_model = BERTopic()"
   ]
  },
  {
   "cell_type": "code",
   "execution_count": null,
   "id": "287f726e",
   "metadata": {},
   "outputs": [],
   "source": [
    "cc_topics, cc_probs = cc_topic_model.fit_transform(cc_abs_list)"
   ]
  },
  {
   "cell_type": "code",
   "execution_count": null,
   "id": "b2bb4d94",
   "metadata": {},
   "outputs": [],
   "source": [
    "cc_topic_model.get_topic_info()"
   ]
  },
  {
   "cell_type": "code",
   "execution_count": null,
   "id": "2a615c1a",
   "metadata": {},
   "outputs": [],
   "source": [
    "cc_topic_model.get_topic(0)"
   ]
  },
  {
   "cell_type": "code",
   "execution_count": null,
   "id": "ee48a955",
   "metadata": {},
   "outputs": [],
   "source": [
    "cc_topic_model.get_document_info(cc_abs_list)"
   ]
  },
  {
   "cell_type": "code",
   "execution_count": null,
   "id": "3d909d3d",
   "metadata": {},
   "outputs": [],
   "source": []
  },
  {
   "cell_type": "markdown",
   "id": "21ff49eb",
   "metadata": {},
   "source": [
    "## Title"
   ]
  },
  {
   "cell_type": "code",
   "execution_count": null,
   "id": "ace190ec",
   "metadata": {},
   "outputs": [],
   "source": [
    "# make list of strings of titles\n",
    "cc_ttl_list = cc_dataset[\"title\"].values.tolist()"
   ]
  },
  {
   "cell_type": "code",
   "execution_count": null,
   "id": "127e28cf",
   "metadata": {},
   "outputs": [],
   "source": [
    "cc_ttl_topic_model = BERTopic()"
   ]
  },
  {
   "cell_type": "code",
   "execution_count": null,
   "id": "4e0bc213",
   "metadata": {},
   "outputs": [],
   "source": [
    "cc_ttl_topics, cc_ttl_probs = cc_ttl_topic_model.fit_transform(cc_ttl_list)"
   ]
  },
  {
   "cell_type": "code",
   "execution_count": null,
   "id": "5e9610c1",
   "metadata": {},
   "outputs": [],
   "source": [
    "cc_ttl_topic_model.get_topic_info()"
   ]
  },
  {
   "cell_type": "code",
   "execution_count": null,
   "id": "eb4a7cc3",
   "metadata": {},
   "outputs": [],
   "source": [
    "cc_ttl_topic_model.get_topic(0)"
   ]
  },
  {
   "cell_type": "code",
   "execution_count": null,
   "id": "dcab47dc",
   "metadata": {},
   "outputs": [],
   "source": [
    "cc_ttl_topic_model.get_document_info(cc_ttl_list)"
   ]
  },
  {
   "cell_type": "code",
   "execution_count": null,
   "id": "d35083d0",
   "metadata": {},
   "outputs": [],
   "source": [
    "cc_ttl_topic_model.visualize_topics()"
   ]
  },
  {
   "cell_type": "code",
   "execution_count": null,
   "id": "fd7a2206",
   "metadata": {},
   "outputs": [],
   "source": []
  },
  {
   "cell_type": "markdown",
   "id": "a9c5caa3",
   "metadata": {},
   "source": [
    "## save model"
   ]
  },
  {
   "cell_type": "code",
   "execution_count": null,
   "id": "746902d6",
   "metadata": {},
   "outputs": [],
   "source": [
    "cc_topic_model.save(\"cc_abstract_bertopic_model\")"
   ]
  },
  {
   "cell_type": "code",
   "execution_count": null,
   "id": "ddcfacba",
   "metadata": {},
   "outputs": [],
   "source": [
    "cc_ttl_topic_model.save(\"cc_title_bertopic_model\")"
   ]
  },
  {
   "cell_type": "code",
   "execution_count": null,
   "id": "6708a00c",
   "metadata": {},
   "outputs": [],
   "source": []
  },
  {
   "cell_type": "markdown",
   "id": "7e7d4768",
   "metadata": {},
   "source": [
    "## NLP"
   ]
  },
  {
   "cell_type": "markdown",
   "id": "fd0857b7",
   "metadata": {},
   "source": [
    "## Abstract"
   ]
  },
  {
   "cell_type": "code",
   "execution_count": null,
   "id": "cece2c21",
   "metadata": {},
   "outputs": [],
   "source": [
    "# clean abstract and make list of strings of abstracts\n",
    "nlp_abs_list = nlp_dataset[\"abstract\"].apply(lambda x: x[2:-1]).values.tolist()"
   ]
  },
  {
   "cell_type": "code",
   "execution_count": null,
   "id": "267f895a",
   "metadata": {},
   "outputs": [],
   "source": [
    "nlp_topic_model = BERTopic()"
   ]
  },
  {
   "cell_type": "code",
   "execution_count": null,
   "id": "0a7e6d1f",
   "metadata": {},
   "outputs": [],
   "source": [
    "nlp_topics, nlp_probs = nlp_topic_model.fit_transform(nlp_abs_list)"
   ]
  },
  {
   "cell_type": "code",
   "execution_count": null,
   "id": "66108ea0",
   "metadata": {},
   "outputs": [],
   "source": [
    "nlp_topic_model.get_topic_info()"
   ]
  },
  {
   "cell_type": "code",
   "execution_count": null,
   "id": "859090a8",
   "metadata": {},
   "outputs": [],
   "source": [
    "nlp_topic_model.get_topic(0)"
   ]
  },
  {
   "cell_type": "code",
   "execution_count": null,
   "id": "fe6781c1",
   "metadata": {
    "scrolled": true
   },
   "outputs": [],
   "source": [
    "nlp_topic_model.get_document_info(nlp_abs_list)"
   ]
  },
  {
   "cell_type": "code",
   "execution_count": null,
   "id": "6e4960f3",
   "metadata": {},
   "outputs": [],
   "source": [
    "nlp_topic_model.visualize_topics()"
   ]
  },
  {
   "cell_type": "code",
   "execution_count": null,
   "id": "a48ee769",
   "metadata": {},
   "outputs": [],
   "source": []
  },
  {
   "cell_type": "markdown",
   "id": "baa421c6",
   "metadata": {},
   "source": [
    "## Title"
   ]
  },
  {
   "cell_type": "code",
   "execution_count": null,
   "id": "19ef218b",
   "metadata": {},
   "outputs": [],
   "source": [
    "# make list of strings of titles\n",
    "nlp_ttl_list = nlp_dataset[\"title\"].values.tolist()"
   ]
  },
  {
   "cell_type": "code",
   "execution_count": null,
   "id": "b24ef5c1",
   "metadata": {},
   "outputs": [],
   "source": [
    "nlp_ttl_topic_model = BERTopic()"
   ]
  },
  {
   "cell_type": "code",
   "execution_count": null,
   "id": "3e656855",
   "metadata": {},
   "outputs": [],
   "source": [
    "nlp_ttl_topics, nlp_ttl_probs = nlp_ttl_topic_model.fit_transform(nlp_ttl_list)"
   ]
  },
  {
   "cell_type": "code",
   "execution_count": null,
   "id": "68762f3c",
   "metadata": {},
   "outputs": [],
   "source": [
    "nlp_ttl_topic_model.get_topic_info()"
   ]
  },
  {
   "cell_type": "code",
   "execution_count": null,
   "id": "f34b1b6c",
   "metadata": {},
   "outputs": [],
   "source": [
    "nlp_ttl_topic_model.get_topic(0)"
   ]
  },
  {
   "cell_type": "code",
   "execution_count": null,
   "id": "90076149",
   "metadata": {},
   "outputs": [],
   "source": [
    "nlp_ttl_topic_model.get_document_info(nlp_ttl_list)"
   ]
  },
  {
   "cell_type": "code",
   "execution_count": null,
   "id": "d29d9fd5",
   "metadata": {},
   "outputs": [],
   "source": [
    "nlp_ttl_topic_model.visualize_topics()"
   ]
  },
  {
   "cell_type": "code",
   "execution_count": null,
   "id": "909b1fea",
   "metadata": {},
   "outputs": [],
   "source": []
  },
  {
   "cell_type": "markdown",
   "id": "e9ea73e1",
   "metadata": {},
   "source": [
    "## save model"
   ]
  },
  {
   "cell_type": "code",
   "execution_count": null,
   "id": "3053d8fb",
   "metadata": {},
   "outputs": [],
   "source": [
    "nlp_topic_model.save(\"nlp_abstract_bertopic_model\")"
   ]
  },
  {
   "cell_type": "code",
   "execution_count": null,
   "id": "1f7c322d",
   "metadata": {},
   "outputs": [],
   "source": [
    "nlp_ttl_topic_model.save(\"nlp_title_bertopic_model\")"
   ]
  },
  {
   "cell_type": "code",
   "execution_count": null,
   "id": "4237e44b",
   "metadata": {},
   "outputs": [],
   "source": []
  }
 ],
 "metadata": {
  "kernelspec": {
   "display_name": "Python 3 (ipykernel)",
   "language": "python",
   "name": "python3"
  },
  "language_info": {
   "codemirror_mode": {
    "name": "ipython",
    "version": 3
   },
   "file_extension": ".py",
   "mimetype": "text/x-python",
   "name": "python",
   "nbconvert_exporter": "python",
   "pygments_lexer": "ipython3",
   "version": "3.8.16"
  }
 },
 "nbformat": 4,
 "nbformat_minor": 5
}
