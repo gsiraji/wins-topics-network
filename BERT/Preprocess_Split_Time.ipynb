{
 "cells": [
  {
   "cell_type": "markdown",
   "id": "5f828e3b",
   "metadata": {},
   "source": [
    "# Load preprocessed data"
   ]
  },
  {
   "cell_type": "code",
   "execution_count": 1,
   "id": "befecb61",
   "metadata": {},
   "outputs": [],
   "source": [
    "import json\n",
    "import pandas as pd"
   ]
  },
  {
   "cell_type": "code",
   "execution_count": 2,
   "id": "b6aaef2b",
   "metadata": {},
   "outputs": [],
   "source": [
    "with open('preprocessed_data.json', 'r') as f:\n",
    "    data = json.load(f)"
   ]
  },
  {
   "cell_type": "code",
   "execution_count": 3,
   "id": "0fa1ad4a",
   "metadata": {},
   "outputs": [],
   "source": [
    "# preprocessed abstracts\n",
    "cc = data['climate_change_abstract']\n",
    "nlp = data['nlp_abstract']"
   ]
  },
  {
   "cell_type": "code",
   "execution_count": 4,
   "id": "b207333d",
   "metadata": {},
   "outputs": [],
   "source": [
    "# full datasets\n",
    "cc_f = pd.read_parquet('./arxiv_climate_change.parquet', engine='pyarrow')\n",
    "nlp_f = pd.read_parquet('./arxiv_nlp.parquet', engine='pyarrow')"
   ]
  },
  {
   "cell_type": "markdown",
   "id": "baabeae2",
   "metadata": {},
   "source": [
    "# Combine data"
   ]
  },
  {
   "cell_type": "code",
   "execution_count": 5,
   "id": "96d81619",
   "metadata": {},
   "outputs": [],
   "source": [
    "# add cleaned abstracts to the dataframe\n",
    "cc_f['abstract_cleaned'] = cc\n",
    "nlp_f['abstract_cleaned'] = nlp"
   ]
  },
  {
   "cell_type": "code",
   "execution_count": 6,
   "id": "cc683f65",
   "metadata": {},
   "outputs": [
    {
     "data": {
      "text/plain": [
       "Index(['id', 'submitter', 'authors', 'title', 'comments', 'journal-ref', 'doi',\n",
       "       'report-no', 'categories', 'license', 'abstract', 'versions',\n",
       "       'update_date', 'authors_parsed', 'abstract_cleaned'],\n",
       "      dtype='object')"
      ]
     },
     "execution_count": 6,
     "metadata": {},
     "output_type": "execute_result"
    }
   ],
   "source": [
    "cc_f.columns"
   ]
  },
  {
   "cell_type": "markdown",
   "id": "6e59cd46",
   "metadata": {},
   "source": [
    "# Sort and split by time"
   ]
  },
  {
   "cell_type": "code",
   "execution_count": 7,
   "id": "dcedbf8e",
   "metadata": {},
   "outputs": [],
   "source": [
    "cc_sorted = cc_f.sort_values(by=['update_date'])\n",
    "nlp_sorted = nlp_f.sort_values(by=['update_date'])"
   ]
  },
  {
   "cell_type": "code",
   "execution_count": 8,
   "id": "666e945e",
   "metadata": {},
   "outputs": [],
   "source": [
    "cc_t = cc_sorted['update_date'].apply(lambda x: int(x[:4]))\n",
    "nlp_t = nlp_sorted['update_date'].apply(lambda x: int(x[:4]))"
   ]
  },
  {
   "cell_type": "code",
   "execution_count": 9,
   "id": "d9872754",
   "metadata": {},
   "outputs": [],
   "source": [
    "cc_id1 = cc_t[cc_t<2013].index\n",
    "cc_id2 = cc_t[(cc_t>2012) & (cc_t<2019)].index\n",
    "cc_id3 = cc_t[cc_t>2018].index"
   ]
  },
  {
   "cell_type": "code",
   "execution_count": 10,
   "id": "472baed7",
   "metadata": {},
   "outputs": [],
   "source": [
    "nlp_id1 = nlp_t[nlp_t<2013].index\n",
    "nlp_id2 = nlp_t[(nlp_t>2012) & (nlp_t<2019)].index\n",
    "nlp_id3 = nlp_t[nlp_t>2018].index"
   ]
  },
  {
   "cell_type": "code",
   "execution_count": 11,
   "id": "ec62b747",
   "metadata": {},
   "outputs": [],
   "source": [
    "cc1 = cc_sorted.loc[cc_id1]\n",
    "cc2 = cc_sorted.loc[cc_id2]\n",
    "cc3 = cc_sorted.loc[cc_id3]"
   ]
  },
  {
   "cell_type": "code",
   "execution_count": 12,
   "id": "d57684d5",
   "metadata": {},
   "outputs": [],
   "source": [
    "nlp1 = nlp_sorted.loc[nlp_id1]\n",
    "nlp2 = nlp_sorted.loc[nlp_id2]\n",
    "nlp3 = nlp_sorted.loc[nlp_id3]"
   ]
  },
  {
   "cell_type": "markdown",
   "id": "c7965fb0",
   "metadata": {},
   "source": [
    "# Save data"
   ]
  },
  {
   "cell_type": "code",
   "execution_count": 13,
   "id": "67787a6a",
   "metadata": {},
   "outputs": [],
   "source": [
    "cc1.to_parquet('climate_change_t1.parquet', engine='pyarrow', index=False)\n",
    "cc2.to_parquet('climate_change_t2.parquet', engine='pyarrow', index=False)\n",
    "cc3.to_parquet('climate_change_t3.parquet', engine='pyarrow', index=False)"
   ]
  },
  {
   "cell_type": "code",
   "execution_count": 14,
   "id": "30a0d9ce",
   "metadata": {},
   "outputs": [],
   "source": [
    "nlp1.to_parquet('nlp_t1.parquet', engine='pyarrow', index=False)\n",
    "nlp2.to_parquet('nlp_t2.parquet', engine='pyarrow', index=False)\n",
    "nlp3.to_parquet('nlp_t3.parquet', engine='pyarrow', index=False)"
   ]
  },
  {
   "cell_type": "code",
   "execution_count": 15,
   "id": "e51432ee",
   "metadata": {},
   "outputs": [],
   "source": [
    "cc_f.to_parquet('climate_change_full.parquet', engine='pyarrow', index=False)\n",
    "nlp_f.to_parquet('nlp_full.parquet', engine='pyarrow', index=False)"
   ]
  },
  {
   "cell_type": "code",
   "execution_count": null,
   "id": "b2e02944",
   "metadata": {},
   "outputs": [],
   "source": []
  }
 ],
 "metadata": {
  "kernelspec": {
   "display_name": "Python 3 (ipykernel)",
   "language": "python",
   "name": "python3"
  },
  "language_info": {
   "codemirror_mode": {
    "name": "ipython",
    "version": 3
   },
   "file_extension": ".py",
   "mimetype": "text/x-python",
   "name": "python",
   "nbconvert_exporter": "python",
   "pygments_lexer": "ipython3",
   "version": "3.8.16"
  }
 },
 "nbformat": 4,
 "nbformat_minor": 5
}
