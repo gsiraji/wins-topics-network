{
 "cells": [
  {
   "cell_type": "markdown",
   "id": "74887317",
   "metadata": {},
   "source": [
    "# Import Data"
   ]
  },
  {
   "cell_type": "code",
   "execution_count": 1,
   "id": "a63eae91",
   "metadata": {},
   "outputs": [],
   "source": [
    "import pandas as pd"
   ]
  },
  {
   "cell_type": "code",
   "execution_count": 2,
   "id": "8f3a5571",
   "metadata": {},
   "outputs": [],
   "source": [
    "nlp_dataset = pd.read_parquet('./arxiv_nlp.parquet', engine='pyarrow')"
   ]
  },
  {
   "cell_type": "code",
   "execution_count": 3,
   "id": "483d4d17",
   "metadata": {},
   "outputs": [],
   "source": [
    "cc_dataset = pd.read_parquet('./arxiv_climate_change.parquet', engine='pyarrow')"
   ]
  },
  {
   "cell_type": "code",
   "execution_count": null,
   "id": "85bd56ec",
   "metadata": {},
   "outputs": [],
   "source": []
  },
  {
   "cell_type": "markdown",
   "id": "5399737a",
   "metadata": {},
   "source": [
    "# Preprocess Data"
   ]
  },
  {
   "cell_type": "code",
   "execution_count": 11,
   "id": "a3d87f3c",
   "metadata": {},
   "outputs": [
    {
     "name": "stderr",
     "output_type": "stream",
     "text": [
      "[nltk_data] Downloading package stopwords to /Users/moyi/nltk_data...\n",
      "[nltk_data]   Package stopwords is already up-to-date!\n"
     ]
    }
   ],
   "source": [
    "import nltk\n",
    "nltk.download('stopwords')\n",
    "import re\n",
    "import numpy as np\n",
    "import gensim\n",
    "from gensim.utils import simple_preprocess\n",
    "import spacy"
   ]
  },
  {
   "cell_type": "code",
   "execution_count": 5,
   "id": "377b0ed4",
   "metadata": {},
   "outputs": [],
   "source": [
    "# Prepare stopwords\n",
    "# NLTK Stop words\n",
    "from nltk.corpus import stopwords\n",
    "stop_words = stopwords.words('english')\n",
    "stop_words.extend(['from', 'subject', 're', 'edu', 'use'])"
   ]
  },
  {
   "cell_type": "code",
   "execution_count": 6,
   "id": "8acc9126",
   "metadata": {},
   "outputs": [],
   "source": [
    "cc_abs = cc_dataset.abstract.values.tolist()\n",
    "cc_ttl = cc_dataset.title.values.tolist()\n",
    "nlp_abs = nlp_dataset.abstract.values.tolist()\n",
    "nlp_ttl = nlp_dataset.title.values.tolist()"
   ]
  },
  {
   "cell_type": "markdown",
   "id": "bd3217c6",
   "metadata": {},
   "source": [
    "**try different bigrams model**"
   ]
  },
  {
   "cell_type": "code",
   "execution_count": 7,
   "id": "9210fea8",
   "metadata": {},
   "outputs": [],
   "source": [
    "def sent_to_words(sentences):\n",
    "  for sentence in sentences:\n",
    "    yield(gensim.utils.simple_preprocess(str(sentence), deacc=True))            \n",
    "    #deacc=True removes punctuations\n",
    "docs_words = list(sent_to_words(cc_abs))"
   ]
  },
  {
   "cell_type": "code",
   "execution_count": null,
   "id": "3509c413",
   "metadata": {},
   "outputs": [],
   "source": [
    "def remove_stopwords(texts):\n",
    "    return [[word for word in simple_preprocess(str(doc)) if word not in stop_words] for doc in texts]\n",
    "\n",
    "docs_words_nostops = remove_stopwords(docs_words)"
   ]
  },
  {
   "cell_type": "markdown",
   "id": "dfce9ffc",
   "metadata": {},
   "source": [
    "Build bigram model using original text"
   ]
  },
  {
   "cell_type": "code",
   "execution_count": null,
   "id": "22e1895b",
   "metadata": {},
   "outputs": [],
   "source": [
    "# Build the bigram model\n",
    "bigram0 = gensim.models.Phrases(docs_words, min_count=5, threshold=100) # higher threshold fewer phrases.\n",
    "\n",
    "# Faster way to get a sentence clubbed as a bigram\n",
    "bigram_mod0 = gensim.models.phrases.Phraser(bigram0)"
   ]
  },
  {
   "cell_type": "markdown",
   "id": "222cf9f7",
   "metadata": {},
   "source": [
    "Build bigram model using text without stopwords"
   ]
  },
  {
   "cell_type": "code",
   "execution_count": null,
   "id": "dde0b3b6",
   "metadata": {},
   "outputs": [],
   "source": [
    "# Build the bigram model\n",
    "bigram1 = gensim.models.Phrases(docs_words_nostops, min_count=5, threshold=100) # higher threshold fewer phrases.\n",
    "\n",
    "# Faster way to get a sentence clubbed as a bigram\n",
    "bigram_mod1 = gensim.models.phrases.Phraser(bigram1)"
   ]
  },
  {
   "cell_type": "code",
   "execution_count": null,
   "id": "9e3f9b1a",
   "metadata": {},
   "outputs": [],
   "source": [
    "docs_words_bigrams0 = [bigram_mod0[doc] for doc in docs_words_nostops]"
   ]
  },
  {
   "cell_type": "code",
   "execution_count": null,
   "id": "be447334",
   "metadata": {},
   "outputs": [],
   "source": [
    "docs_words_bigrams1 = [bigram_mod1[doc] for doc in docs_words_nostops]"
   ]
  },
  {
   "cell_type": "code",
   "execution_count": null,
   "id": "667423a8",
   "metadata": {},
   "outputs": [],
   "source": [
    "diff_list = []\n",
    "diff_list1 = []\n",
    "diff_list2 = []\n",
    "for i in range(len(docs_words_bigrams0)):\n",
    "    diff1 = [x for x in docs_words_bigrams0[i] if x not in docs_words_bigrams1[i]]\n",
    "    diff2 = [x for x in docs_words_bigrams1[i] if x not in docs_words_bigrams0[i]]\n",
    "    if len(diff1) != 0 or len(diff2) != 0:\n",
    "        print(i)\n",
    "    \n",
    "    diff_list1 = diff_list1 + diff1\n",
    "    diff_list2 = diff_list2 + diff2\n",
    "    diff_list = diff_list + diff1 + diff2"
   ]
  },
  {
   "cell_type": "code",
   "execution_count": null,
   "id": "5e923308",
   "metadata": {},
   "outputs": [],
   "source": [
    "diff_list"
   ]
  },
  {
   "cell_type": "code",
   "execution_count": null,
   "id": "9005559b",
   "metadata": {},
   "outputs": [],
   "source": [
    "diff_list1"
   ]
  },
  {
   "cell_type": "code",
   "execution_count": null,
   "id": "f0626146",
   "metadata": {},
   "outputs": [],
   "source": [
    "diff_list2"
   ]
  },
  {
   "cell_type": "code",
   "execution_count": null,
   "id": "9dc4543a",
   "metadata": {},
   "outputs": [],
   "source": [
    "docs_words_bigrams0[0]"
   ]
  },
  {
   "cell_type": "code",
   "execution_count": null,
   "id": "ccdcb270",
   "metadata": {},
   "outputs": [],
   "source": [
    "docs_words_bigrams1[0]"
   ]
  },
  {
   "cell_type": "code",
   "execution_count": null,
   "id": "278ec540",
   "metadata": {},
   "outputs": [],
   "source": []
  },
  {
   "cell_type": "markdown",
   "id": "fd044a4d",
   "metadata": {},
   "source": [
    "## Clean texts"
   ]
  },
  {
   "cell_type": "code",
   "execution_count": 14,
   "id": "cb578468",
   "metadata": {},
   "outputs": [],
   "source": [
    "# functions\n",
    "\n",
    "# Tokenize words and cleanup the text\n",
    "def sent_to_words(sentences):\n",
    "  for sentence in sentences:\n",
    "    yield(gensim.utils.simple_preprocess(str(sentence), deacc=True))            \n",
    "    #deacc=True removes punctuations\n",
    "\n",
    "# Remove Stopwords, make bigrams and lemmatize\n",
    "# Define function for stopwords, bigrams, trigrams and lemmatization\n",
    "def remove_stopwords(texts):\n",
    "    return [[word for word in simple_preprocess(str(doc)) if word not in stop_words] for doc in texts]\n",
    "\n",
    "\n",
    "def make_bigrams(texts):\n",
    "    # Build the bigram model\n",
    "    bigram = gensim.models.Phrases(texts, min_count=5, threshold=100) # higher threshold fewer phrases.\n",
    "\n",
    "    # Faster way to get a sentence clubbed as a bigram\n",
    "    bigram_mod = gensim.models.phrases.Phraser(bigram)\n",
    "    return [bigram_mod[doc] for doc in texts]\n",
    "\n",
    "\n",
    "def lemmatization(texts, allowed_postags=['NOUN', 'ADJ', 'VERB', 'ADV']):\n",
    "    \"\"\"https://spacy.io/api/annotation\"\"\"\n",
    "    texts_out = []\n",
    "    nlp = spacy.load(\"en_core_web_sm\", disable=['parser', 'ner'])\n",
    "    for sent in texts:\n",
    "        doc = nlp(\" \".join(sent)) \n",
    "        texts_out.append([token.lemma_ for token in doc if token.pos_ in allowed_postags])\n",
    "    return texts_out\n",
    "\n",
    "\n",
    "def text_preprocess(docs): \n",
    "    # docs: list of str\n",
    "      \n",
    "    # Remove new line characters \n",
    "    docs = [re.sub('\\s+', ' ', doc) for doc in docs]  \n",
    "    # Remove distracting single quotes \n",
    "    docs = [re.sub(\"\\'\", \"\", doc) for doc in docs]\n",
    "\n",
    "    docs_words = list(sent_to_words(docs))\n",
    "\n",
    "    # Call preprocessing functions in order\n",
    "    # Remove Stop Words\n",
    "    docs_words_nostops = remove_stopwords(docs_words)\n",
    "\n",
    "    # Form Bigrams\n",
    "    docs_words_bigrams = make_bigrams(docs_words_nostops)\n",
    "\n",
    "    # Do lemmatization keeping only noun, adj, vb, adv\n",
    "    docs_lemmatized = lemmatization(docs_words_bigrams, allowed_postags=['NOUN', 'ADJ', 'VERB', 'ADV'])\n",
    "\n",
    "    # Create Corpus \n",
    "    docs_cleaned = docs_lemmatized\n",
    "    \n",
    "    return docs_cleaned"
   ]
  },
  {
   "cell_type": "code",
   "execution_count": 27,
   "id": "03d0d89c",
   "metadata": {},
   "outputs": [],
   "source": [
    "cc_abs_words_cleaned = text_preprocess(cc_abs)\n",
    "cc_abs_cleaned = list(map(lambda x: ' '.join(x), cc_abs_words_cleaned))"
   ]
  },
  {
   "cell_type": "code",
   "execution_count": 35,
   "id": "10c92600",
   "metadata": {},
   "outputs": [],
   "source": [
    "cc_ttl_words_cleaned = text_preprocess(cc_ttl)\n",
    "cc_ttl_cleaned = list(map(lambda x: ' '.join(x), cc_ttl_words_cleaned))"
   ]
  },
  {
   "cell_type": "code",
   "execution_count": 36,
   "id": "ed0cf6de",
   "metadata": {},
   "outputs": [],
   "source": [
    "nlp_abs_words_cleaned = text_preprocess(nlp_abs)\n",
    "nlp_abs_cleaned = list(map(lambda x: ' '.join(x), nlp_abs_words_cleaned))"
   ]
  },
  {
   "cell_type": "code",
   "execution_count": 37,
   "id": "5961df66",
   "metadata": {},
   "outputs": [],
   "source": [
    "nlp_ttl_words_cleaned = text_preprocess(nlp_ttl)\n",
    "nlp_ttl_cleaned = list(map(lambda x: ' '.join(x), nlp_ttl_words_cleaned))"
   ]
  },
  {
   "cell_type": "markdown",
   "id": "27a361d8",
   "metadata": {},
   "source": [
    "## save preprocessed data"
   ]
  },
  {
   "cell_type": "code",
   "execution_count": 38,
   "id": "194d927c",
   "metadata": {},
   "outputs": [],
   "source": [
    "import json"
   ]
  },
  {
   "cell_type": "code",
   "execution_count": 39,
   "id": "148e15c7",
   "metadata": {},
   "outputs": [],
   "source": [
    "save_data_dic = {\"climate_change_abstract\":cc_abs_cleaned, \"climate_change_title\":cc_ttl_cleaned, \"nlp_abstract\": nlp_abs_cleaned, \"nlp_title\": nlp_ttl_cleaned}\n"
   ]
  },
  {
   "cell_type": "code",
   "execution_count": 68,
   "id": "6ccfbd83",
   "metadata": {},
   "outputs": [],
   "source": [
    "with open(\"preprocessed_data.json\", 'w', encoding='utf-8') as fl:\n",
    "    json.dump(save_data_dic, fl, ensure_ascii=False, indent=4)"
   ]
  },
  {
   "cell_type": "code",
   "execution_count": null,
   "id": "d75f84ba",
   "metadata": {},
   "outputs": [],
   "source": []
  },
  {
   "cell_type": "code",
   "execution_count": null,
   "id": "ea8bd44a",
   "metadata": {},
   "outputs": [],
   "source": []
  }
 ],
 "metadata": {
  "kernelspec": {
   "display_name": "Python 3 (ipykernel)",
   "language": "python",
   "name": "python3"
  },
  "language_info": {
   "codemirror_mode": {
    "name": "ipython",
    "version": 3
   },
   "file_extension": ".py",
   "mimetype": "text/x-python",
   "name": "python",
   "nbconvert_exporter": "python",
   "pygments_lexer": "ipython3",
   "version": "3.8.16"
  }
 },
 "nbformat": 4,
 "nbformat_minor": 5
}
