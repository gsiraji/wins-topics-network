{
 "cells": [
  {
   "cell_type": "code",
   "execution_count": 1,
   "metadata": {},
   "outputs": [
    {
     "name": "stderr",
     "output_type": "stream",
     "text": [
      "[nltk_data] Downloading package stopwords to /Users/tfai/nltk_data...\n",
      "[nltk_data]   Package stopwords is already up-to-date!\n",
      "2023-05-04 17:13:39.877930: I tensorflow/core/platform/cpu_feature_guard.cc:193] This TensorFlow binary is optimized with oneAPI Deep Neural Network Library (oneDNN) to use the following CPU instructions in performance-critical operations:  AVX2 FMA\n",
      "To enable them in other operations, rebuild TensorFlow with the appropriate compiler flags.\n"
     ]
    }
   ],
   "source": [
    "# from https://medium.com/analytics-vidhya/topic-modeling-using-gensim-lda-in-python-48eaa2344920\n",
    "\n",
    "import nltk\n",
    "nltk.download('stopwords')\n",
    "import re\n",
    "import numpy as np\n",
    "import pandas as  pd\n",
    "from pprint import pprint# Gensim\n",
    "import gensim\n",
    "import gensim.corpora as corpora\n",
    "from gensim.utils import simple_preprocess\n",
    "from gensim.models import CoherenceModel# spaCy for preprocessing\n",
    "import spacy# Plotting tools\n",
    "import pyLDAvis\n",
    "import pyLDAvis.gensim\n",
    "import matplotlib.pyplot as plt\n",
    "# %matplotlib inline\n",
    "import parquet\n",
    "import os\n",
    "\n",
    "# Prepare stopwords\n",
    "# NLTK Stop words\n",
    "from nltk.corpus import stopwords"
   ]
  },
  {
   "cell_type": "code",
   "execution_count": 2,
   "metadata": {},
   "outputs": [],
   "source": [
    "def remove_stopwords(texts):\n",
    "    stop_words = stopwords.words('english')\n",
    "    stop_words.extend(['from', 'subject', 're', 'edu', 'use'])\n",
    "    return [[word for word in simple_preprocess(str(doc)) if word not in stop_words] for doc in texts]\n",
    "\n",
    "def make_bigrams(texts):\n",
    "    # Build the bigram\n",
    "    bigram = gensim.models.Phrases(texts, min_count=5, threshold=100) # higher threshold fewer phrases.\n",
    "    # Faster way to get a sentence clubbed as a bigram\n",
    "    bigram_mod = gensim.models.phrases.Phraser(bigram)\n",
    "\n",
    "    return [bigram_mod[doc] for doc in texts]\n",
    "\n",
    "def make_trigrams(texts):\n",
    "    # Build the trigram models\n",
    "    bigram = gensim.models.Phrases(texts, min_count=5, threshold=100) # higher threshold fewer phrases.\n",
    "    trigram = gensim.models.Phrases(bigram[texts], threshold=100)\n",
    "\n",
    "    # Faster way to get a sentence clubbed as a trigram/bigram\n",
    "    bigram_mod = gensim.models.phrases.Phraser(bigram)\n",
    "    trigram_mod = gensim.models.phrases.Phraser(trigram)\n",
    "\n",
    "    # See trigram example\n",
    "    return [trigram_mod[bigram_mod[doc]] for doc in texts]\n",
    "\n",
    "def lemmatization(texts, allowed_postags=['NOUN', 'ADJ', 'VERB', 'ADV']):\n",
    "    \"\"\"https://spacy.io/api/annotation\"\"\"\n",
    "    texts_out = []\n",
    "    # Initialize spacy 'en' model, keeping only tagger component (for efficiency)\n",
    "    # python3 -m spacy download en\n",
    "    # nlp = spacy.load('en', disable=['parser', 'ner'])\n",
    "    nlp = spacy.load(\"en_core_web_sm\", disable=['parser', 'ner'])\n",
    "    for sent in texts:\n",
    "        doc = nlp(\" \".join(sent)) \n",
    "        texts_out.append([token.lemma_ for token in doc if token.pos_ in allowed_postags])\n",
    "    return texts_out\n"
   ]
  },
  {
   "cell_type": "code",
   "execution_count": 3,
   "metadata": {},
   "outputs": [
    {
     "name": "stderr",
     "output_type": "stream",
     "text": [
      "<>:25: DeprecationWarning: invalid escape sequence '\\s'\n",
      "<>:25: DeprecationWarning: invalid escape sequence '\\s'\n",
      "/var/folders/nk/cmv723pj6n38_mwnlhj_7z3m0000gp/T/ipykernel_3275/2574915753.py:25: DeprecationWarning: invalid escape sequence '\\s'\n",
      "  data = [re.sub('\\s+', ' ', sent) for sent in data]\n"
     ]
    }
   ],
   "source": [
    "# Tokenize words and cleanup the text\n",
    "def sent_to_words(sentences):\n",
    "  for sentence in sentences:\n",
    "    yield(gensim.utils.simple_preprocess(str(sentence), deacc=True))            \n",
    "    #deacc=True removes punctuations\n",
    "\n",
    "def preprocess(dataFrameName):\n",
    "    \n",
    "    stop_words = stopwords.words('english')\n",
    "    stop_words.extend(['from', 'subject', 're', 'edu', 'use'])\n",
    "\n",
    "    # load daaset\n",
    "    path = os.getcwd()\n",
    "    # df = pd.read_parquet('{}/project_data/arxiv_climate_change.parquet'.format(path), engine='auto')\n",
    "    \n",
    "    \n",
    "    filePath = '%s/project_data/%s.parquet' % (path,dataFrameName)\n",
    "\n",
    "    df = pd.read_parquet(filePath)\n",
    "\n",
    "    # Remove newline characters\n",
    "    # Convert to list \n",
    "    data = df.abstract.values.tolist()  \n",
    "    # Remove new line characters \n",
    "    data = [re.sub('\\s+', ' ', sent) for sent in data]  \n",
    "    # Remove distracting single quotes \n",
    "    data = [re.sub(\"\\'\", \"\", sent) for sent in data]  \n",
    "    data_words = list(sent_to_words(data))\n",
    "\n",
    "    # Call preprocessing functions in order\n",
    "    # Remove Stop Words\n",
    "    data_words_nostops = remove_stopwords(data_words)\n",
    "\n",
    "    # Form Bigrams\n",
    "    data_words_bigrams = make_bigrams(data_words_nostops)\n",
    "\n",
    "    \n",
    "\n",
    "    # Do lemmatization keeping only noun, adj, vb, adv\n",
    "    data_lemmatized = lemmatization(data_words_bigrams, allowed_postags=['NOUN', 'ADJ', 'VERB', 'ADV'])\n",
    "\n",
    "    # print(data_lemmatized[:1])\n",
    "\n",
    "    return data_lemmatized\n",
    "    "
   ]
  },
  {
   "cell_type": "code",
   "execution_count": 5,
   "metadata": {},
   "outputs": [],
   "source": [
    "# Create Dictionary and Corpus needed for Topic Modeling\n",
    "    # Create Dictionary \n",
    "\n",
    "def get_corpus(df):\n",
    "    data_lemmatized = preprocess(df)\n",
    "    id2word = corpora.Dictionary(data_lemmatized)  \n",
    "        # Create Corpus \n",
    "    texts = data_lemmatized  \n",
    "        # Term Document Frequency \n",
    "    corpus = [id2word.doc2bow(text) for text in texts]  \n",
    "\n",
    "    return(corpus, id2word,data_lemmatized)\n",
    "\n",
    "\n"
   ]
  },
  {
   "cell_type": "code",
   "execution_count": 6,
   "metadata": {},
   "outputs": [],
   "source": [
    "def build_model(df, num_topics):\n",
    "    # Building topic model\n",
    "    corpus, id2word,data_lemmatized = get_corpus(df)\n",
    "    lda_model = gensim.models.ldamodel.LdaModel(corpus=corpus,\n",
    "                                            id2word=id2word,\n",
    "                                            num_topics=num_topics, \n",
    "                                            random_state=100,\n",
    "                                            update_every=1, # determines how often the model parameters should be updated\n",
    "                                            chunksize=100, # the number of documents to be used in each training chunk\n",
    "                                            passes=10, # the total number of training passes\n",
    "                                            alpha='auto',\n",
    "                                            per_word_topics=True)\n",
    "\n",
    "\n",
    "    # Print the keyword of topics\n",
    "    # pprint(lda_model.print_topics())\n",
    "    doc_lda = lda_model[corpus]\n",
    "    # Evaluate topic models\n",
    "\n",
    "    # Compute model Perplexity and Coherence score\n",
    "    # Compute Perplexity\n",
    "    # print('\\nPerplexity: ', lda_model.log_perplexity(corpus))  \n",
    "    # a measure of how good the model is. lower the better.\n",
    "\n",
    "    # Compute Coherence Score\n",
    "    coherence_model_lda = CoherenceModel(model=lda_model, texts=data_lemmatized, dictionary=id2word, coherence='c_v')\n",
    "    coherence_lda = coherence_model_lda.get_coherence()\n",
    "    # print('\\nCoherence Score: ', coherence_lda)\n",
    "    #Higher the topic coherence, the topic is more human interpretable.\n",
    "    return(lda_model.log_perplexity(corpus),coherence_lda) "
   ]
  },
  {
   "cell_type": "code",
   "execution_count": 8,
   "metadata": {},
   "outputs": [
    {
     "name": "stdout",
     "output_type": "stream",
     "text": [
      "\n",
      "Perplexity:  -11.099614175498273\n",
      "\n",
      "Coherence Score:  0.4655382118582177\n",
      "\n",
      "Perplexity:  -11.307064356142975\n",
      "\n",
      "Coherence Score:  0.4565442238531724\n",
      "\n",
      "Perplexity:  -11.509889953943015\n",
      "\n",
      "Coherence Score:  0.46843045486396484\n",
      "\n",
      "Perplexity:  -11.72681057902166\n",
      "\n",
      "Coherence Score:  0.42513288849964\n",
      "\n",
      "Perplexity:  -11.936132097892376\n",
      "\n",
      "Coherence Score:  0.4483601133207788\n",
      "\n",
      "Perplexity:  -12.139280101196972\n",
      "\n",
      "Coherence Score:  0.4224173504145129\n",
      "\n",
      "Perplexity:  -12.37023552193815\n",
      "\n",
      "Coherence Score:  0.4425384174354132\n",
      "\n",
      "Perplexity:  -12.578028463079923\n",
      "\n",
      "Coherence Score:  0.42263086175164255\n",
      "\n",
      "Perplexity:  -12.79375460606321\n",
      "\n",
      "Coherence Score:  0.44698116718227404\n",
      "\n",
      "Perplexity:  -13.00777181756122\n",
      "\n",
      "Coherence Score:  0.4422423289631795\n"
     ]
    }
   ],
   "source": [
    "performance_vec = []\n",
    "for i in range(16,26):\n",
    "\n",
    "    performance_vec.append(build_model('arxiv_climate_change',i))\n",
    "    "
   ]
  },
  {
   "cell_type": "code",
   "execution_count": 11,
   "metadata": {},
   "outputs": [],
   "source": [
    "perplex_vec = [-11.099614175498273,-11.307064356142975,-11.509889953943015,-11.72681057902166,-11.936132097892376, -12.139280101196972,-12.37023552193815,-12.578028463079923, -12.79375460606321,-13.00777181756122]\n",
    "coherence_vec = [0.4655382118582177,0.4565442238531724,0.46843045486396484,0.42513288849964,0.4483601133207788,0.4224173504145129,0.4425384174354132,0.42263086175164255,0.44698116718227404,0.4422423289631795]"
   ]
  },
  {
   "cell_type": "code",
   "execution_count": 27,
   "metadata": {},
   "outputs": [
    {
     "data": {
      "text/plain": [
       "[<matplotlib.lines.Line2D at 0x1979e0310>]"
      ]
     },
     "execution_count": 27,
     "metadata": {},
     "output_type": "execute_result"
    },
    {
     "data": {
      "image/png": "[encoded data removed]",
      "text/plain": [
       "<Figure size 640x480 with 1 Axes>"
      ]
     },
     "metadata": {},
     "output_type": "display_data"
    },
    {
     "data": {
      "image/png": "[encoded data removed]",
      "text/plain": [
       "<Figure size 640x480 with 1 Axes>"
      ]
     },
     "metadata": {},
     "output_type": "display_data"
    }
   ],
   "source": [
    "fig,ax = plt.subplots(1,1)\n",
    "ax.plot(perplex_vec)\n",
    "fig,ax = plt.subplots(1,1)\n",
    "ax.plot(coherence_vec)"
   ]
  },
  {
   "cell_type": "code",
   "execution_count": null,
   "metadata": {},
   "outputs": [],
   "source": []
  }
 ],
 "metadata": {
  "kernelspec": {
   "display_name": "Python 3",
   "language": "python",
   "name": "python3"
  },
  "language_info": {
   "codemirror_mode": {
    "name": "ipython",
    "version": 3
   },
   "file_extension": ".py",
   "mimetype": "text/x-python",
   "name": "python",
   "nbconvert_exporter": "python",
   "pygments_lexer": "ipython3",
   "version": "3.10.8"
  },
  "orig_nbformat": 4
 },
 "nbformat": 4,
 "nbformat_minor": 2
}
