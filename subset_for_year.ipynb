{
 "cells": [
  {
   "cell_type": "code",
   "execution_count": 3,
   "metadata": {},
   "outputs": [],
   "source": [
    "import pandas as pd\n",
    "import os\n"
   ]
  },
  {
   "cell_type": "code",
   "execution_count": 8,
   "metadata": {},
   "outputs": [],
   "source": [
    "def get_file_name(dataFrameName, path):\n",
    "    filePath = '%s/project_data/%s.parquet' % (path,dataFrameName)\n",
    "    \n",
    "    return filePath"
   ]
  },
  {
   "cell_type": "code",
   "execution_count": 13,
   "metadata": {},
   "outputs": [],
   "source": [
    "def read_df(dataFrameName):\n",
    "    path = os.getcwd()\n",
    "    filePath = get_file_name(dataFrameName,path)\n",
    "    df = pd.read_parquet(filePath,engine='auto')\n",
    "    return df"
   ]
  },
  {
   "cell_type": "code",
   "execution_count": 46,
   "metadata": {},
   "outputs": [],
   "source": [
    "def get_subset(df,year: int=2010):\n",
    "    '''\n",
    "    This function subsets the dataframe df\n",
    "    by year\n",
    "\n",
    "    inputs: \n",
    "    df: pandas dataframe\n",
    "    year: int\n",
    "\n",
    "    output:\n",
    "    subset_df: pandas dataframe \n",
    "    with entries with date 'year-M-D'\n",
    "    '''\n",
    "\n",
    "    df['date'] = pd.to_datetime(df['update_date'], format='%Y-%m-%d')\n",
    "\n",
    "    start_date = '{}-01-01'.format(str(year))\n",
    "    end_date = '{}-01-01'.format(str(year+1))\n",
    "    \n",
    "    subset_df = df.loc[(df['date'] >= start_date)\n",
    "                    & (df['date'] < end_date)]\n",
    "    \n",
    "    if subset_df.empty:\n",
    "        print('DataFrame is empty for year {}!'.format(str(year)))\n",
    "    \n",
    "    return subset_df"
   ]
  },
  {
   "cell_type": "code",
   "execution_count": 47,
   "metadata": {},
   "outputs": [],
   "source": [
    "def get_subset_from_file_name(dataFrameName: str='arxiv_climate_change',year: int=2010):\n",
    "    '''\n",
    "    This function subsets the dataframe named\n",
    "    dataFrameName by year\n",
    "\n",
    "    inputs: \n",
    "    dataFrameName: name of the dataframe, string \n",
    "    year: int\n",
    "\n",
    "    output:\n",
    "    subset_df: pandas dataframe \n",
    "    with entries with date 'year-M-D'\n",
    "    '''\n",
    "    df = read_df(dataFrameName)\n",
    "\n",
    "    subset_df = get_subset(df,year)\n",
    "    \n",
    "    return subset_df"
   ]
  },
  {
   "cell_type": "code",
   "execution_count": 59,
   "metadata": {},
   "outputs": [],
   "source": [
    "def save_subset_dfs(subset_df,dataFrameName,year):\n",
    "\n",
    "    '''\n",
    "    This function saves the subset dataframes\n",
    "    in the folder subset_data\n",
    "\n",
    "    inputs: \n",
    "    subset_df: dataframe\n",
    "    dataFrameName: name of the dataframe, string \n",
    "    year: int\n",
    "\n",
    "    ! in progress\n",
    "    '''\n",
    "\n",
    "    path = os.getcwd()\n",
    "    # Check whether the subset_data folder exists\n",
    "    isExist = os.path.exists('{}/subset_data'.format(path))\n",
    "    if not isExist:\n",
    "\n",
    "    # Create the new folder because it does not exist\n",
    "        os.makedirs(path)\n",
    "        os.mkdir('{}/subset_data'.format(path))\n",
    "\n",
    "    subset_df.to_parquet('{}_{}.parquet'.format(dataFrameName,str(year)),engine='auto')"
   ]
  }
 ],
 "metadata": {
  "kernelspec": {
   "display_name": "Python 3",
   "language": "python",
   "name": "python3"
  },
  "language_info": {
   "codemirror_mode": {
    "name": "ipython",
    "version": 3
   },
   "file_extension": ".py",
   "mimetype": "text/x-python",
   "name": "python",
   "nbconvert_exporter": "python",
   "pygments_lexer": "ipython3",
   "version": "3.10.8"
  },
  "orig_nbformat": 4
 },
 "nbformat": 4,
 "nbformat_minor": 2
}
